{
 "cells": [
  {
   "cell_type": "markdown",
   "id": "25d77425",
   "metadata": {},
   "source": [
    "# Chapter 5 "
   ]
  },
  {
   "cell_type": "code",
   "execution_count": null,
   "id": "c4ee09f2",
   "metadata": {},
   "outputs": [],
   "source": [
    "# Listing 1-1\n",
    "\n",
    "%matplotlib inline\n",
    "\n",
    "import numpy as np\n",
    "import pandas as pd\n",
    "from time import time\n",
    "import matplotlib.pyplot as plt\n",
    "from IPython.display import Image\n",
    "from matplotlib.pylab import rcParams\n",
    "\n",
    "from sklearn import metrics\n",
    "from sklearn.cross_validation import train_test_split\n",
    "\n",
    "from sklearn.decomposition import PCA\n",
    "from sklearn import kernel_approximation\n",
    "from sklearn.linear_model import SGDClassifier\n",
    "from sklearn.tree import DecisionTreeClassifier\n",
    "from sklearn.kernel_approximation import (RBFSampler,Nystroem)\n",
    "from sklearn.ensemble import GradientBoostingClassifier, RandomForestClassifier\n",
    "\n",
    "rcParams['figure.figsize'] = 15, 5"
   ]
  },
  {
   "cell_type": "code",
   "execution_count": null,
   "id": "47730dbc",
   "metadata": {},
   "outputs": [],
   "source": [
    "# Listing 1-2\n",
    "\n",
    "data = pd.read_csv('examples/No-show-Issue-Comma-300k.csv')\n",
    "data.head()"
   ]
  },
  {
   "cell_type": "code",
   "execution_count": null,
   "id": "39d750ed",
   "metadata": {},
   "outputs": [],
   "source": [
    "# Listing 1-3\n",
    "\n",
    "print len(data)"
   ]
  },
  {
   "cell_type": "code",
   "execution_count": null,
   "id": "650ed8e7",
   "metadata": {},
   "outputs": [],
   "source": [
    "# Listing 1-4\n",
    "\n",
    "for column in list(data.columns):\n",
    "    print \"{0:25} {1}\".format(column, data[column].nunique())"
   ]
  },
  {
   "cell_type": "code",
   "execution_count": null,
   "id": "382b70f1",
   "metadata": {},
   "outputs": [],
   "source": [
    "# Listing 1-5\n",
    "\n",
    "def features_plots(discrete_vars):\n",
    "\n",
    "    plt.figure(figsize=(15,24.5))\n",
    "\n",
    "    for i, cv in enumerate(['Age', 'AwaitingTime']):\n",
    "        plt.subplot(7, 2, i+1)\n",
    "        plt.hist(data[cv], bins=len(data[cv].unique()))\n",
    "        plt.title(cv)\n",
    "        plt.ylabel('Frequency')\n",
    "\n",
    "    for i, dv in enumerate(discrete_vars):\n",
    "        plt.subplot(7, 2, i+3)\n",
    "        data[dv].value_counts().plot(kind='bar', title=dv)\n",
    "        plt.ylabel('Frequency')"
   ]
  },
  {
   "cell_type": "code",
   "execution_count": null,
   "id": "56985350",
   "metadata": {},
   "outputs": [],
   "source": [
    "# Listing 1-6\n",
    "\n",
    "discrete_vars = ['Gender', 'DayOfTheWeek', 'Status', 'Diabetes',\n",
    "                     'Alcoolism', 'HiperTension', 'Handcap', 'Smokes',\n",
    "                         'Scholarship', 'Tuberculosis', 'Sms_Reminder']\n",
    "\n",
    "features_plots(discrete_vars)"
   ]
  },
  {
   "cell_type": "code",
   "execution_count": null,
   "id": "e0c4e6fa",
   "metadata": {},
   "outputs": [],
   "source": [
    "# Listing 1-7\n",
    "\n",
    "data[data['Age'] < 0]['Age'].value_counts().sum()"
   ]
  },
  {
   "cell_type": "code",
   "execution_count": null,
   "id": "914a6e0a",
   "metadata": {},
   "outputs": [],
   "source": [
    "# Listing 1-8\n",
    "\n",
    "data = data[data['Age'] >= 0]"
   ]
  },
  {
   "cell_type": "code",
   "execution_count": null,
   "id": "e980aaac",
   "metadata": {},
   "outputs": [],
   "source": [
    "# Listing 1-9\n",
    "\n",
    "del data['Handcap']"
   ]
  },
  {
   "cell_type": "code",
   "execution_count": null,
   "id": "e32cde11",
   "metadata": {},
   "outputs": [],
   "source": [
    "# Listing 1-10\n",
    "\n",
    "data['AwaitingTime'] = data['AwaitingTime'].apply(lambda x: abs(x))"
   ]
  },
  {
   "cell_type": "code",
   "execution_count": null,
   "id": "3784adec",
   "metadata": {},
   "outputs": [],
   "source": [
    "# Listing 1-11\n",
    "\n",
    "dow_mapping = {'Monday' : 0, 'Tuesday' : 1, 'Wednesday' : 2, 'Thursday' : 3, 'Friday' : 4, 'Saturday' : 5, 'Sunday' : 6}\n",
    "data['DayOfTheWeek'] = data['DayOfTheWeek'].map(dow_mapping)"
   ]
  },
  {
   "cell_type": "code",
   "execution_count": null,
   "id": "1ab00eca",
   "metadata": {},
   "outputs": [],
   "source": [
    "# Listing 1-12\n",
    "\n",
    "for field in ['Gender', 'Status']:\n",
    "    data[field] = pd.Categorical.from_array(data[field]).codes"
   ]
  },
  {
   "cell_type": "code",
   "execution_count": null,
   "id": "ee61fc2b",
   "metadata": {},
   "outputs": [],
   "source": [
    "# Listing 1-13\n",
    "\n",
    "discrete_vars = ['Gender', 'DayOfTheWeek', 'Status', 'Diabetes',\n",
    "                     'Alcoolism', 'HiperTension', 'Smokes',\n",
    "                         'Scholarship', 'Tuberculosis', 'Sms_Reminder']\n",
    "\n",
    "features_plots(discrete_vars)"
   ]
  },
  {
   "cell_type": "code",
   "execution_count": null,
   "id": "4a14fba0",
   "metadata": {},
   "outputs": [],
   "source": [
    "# Listing 1-14\n",
    "\n",
    "plt.scatter(data['Age'], data['AwaitingTime'], s=0.5)\n",
    "plt.title('Scatter plot of Age and Awaiting Time')\n",
    "plt.xlabel('Age')\n",
    "plt.ylabel('Awaiting Time')\n",
    "plt.xlim(0, 120)\n",
    "plt.ylim(0, 120)"
   ]
  },
  {
   "cell_type": "code",
   "execution_count": null,
   "id": "6d1ec15d",
   "metadata": {},
   "outputs": [],
   "source": [
    "# Listing 1-15\n",
    "\n",
    "pd.set_option('display.width', 100)\n",
    "pd.set_option('precision', 3)\n",
    "correlations = data[['Age', 'AwaitingTime']].corr(method='pearson')\n",
    "print(correlations)"
   ]
  },
  {
   "cell_type": "code",
   "execution_count": null,
   "id": "3086a51c",
   "metadata": {},
   "outputs": [],
   "source": [
    "# Listing 1-16\n",
    "\n",
    "data_dow_status = data.groupby(['Sms_Reminder', 'Status'])['Sms_Reminder'].count().unstack('Status').fillna(0)\n",
    "data_dow_status[[0, 1]].plot(kind='bar', stacked=True)\n",
    "plt.title('Frequency of people showing up and not showing up by number of SMS reminders sent')\n",
    "plt.xlabel('Number of SMS reminders')\n",
    "plt.ylabel('Frequency')"
   ]
  },
  {
   "cell_type": "code",
   "execution_count": null,
   "id": "89ee2615",
   "metadata": {},
   "outputs": [],
   "source": [
    "# Listing 1-17\n",
    "\n",
    "data_dow_status = data.groupby(['DayOfTheWeek', 'Status'])['DayOfTheWeek'].count().unstack('Status').fillna(0)\n",
    "data_dow_status[[0, 1]].plot(kind='bar', stacked=True)\n",
    "plt.title('Frequency of people showing up and not showing up by Day of the week')\n",
    "plt.xlabel('Day of the week')\n",
    "plt.ylabel('Frequency')"
   ]
  },
  {
   "cell_type": "code",
   "execution_count": null,
   "id": "4ca6cd5d",
   "metadata": {},
   "outputs": [],
   "source": [
    "# Listing 1-18\n",
    "\n",
    "data.boxplot(column=['Age'], return_type='axes', by='Status')\n",
    "plt.show()"
   ]
  },
  {
   "cell_type": "code",
   "execution_count": null,
   "id": "94a74b8f",
   "metadata": {},
   "outputs": [],
   "source": [
    "# Listing 1-19\n",
    "\n",
    "plt.figure(figsize=(15,3.5))\n",
    "\n",
    "for i, status in enumerate(['no show ups', 'show ups']):\n",
    "    \n",
    "    data_show = data[data['Status']==i]\n",
    "    plt.subplot(1, 2, i+1)\n",
    "    \n",
    "    for gender in [0, 1]:\n",
    "        data_gender = data_show[data_show['Gender']==gender]\n",
    "        freq_age = data_gender['Age'].value_counts().sort_index()\n",
    "        freq_age.plot()\n",
    "\n",
    "    plt.title('Age wise frequency of patient %s for both genders'%status)\n",
    "    plt.xlabel('Age')\n",
    "    plt.ylabel('Frequency')\n",
    "    plt.legend(['Female', 'Male'], loc='upper left')"
   ]
  },
  {
   "cell_type": "code",
   "execution_count": null,
   "id": "0228a068",
   "metadata": {},
   "outputs": [],
   "source": [
    "# Listing 1-20\n",
    "\n",
    "data.boxplot(column=['AwaitingTime'], return_type='axes', by='Status')\n",
    "plt.show()"
   ]
  },
  {
   "cell_type": "code",
   "execution_count": null,
   "id": "95a7be3f",
   "metadata": {},
   "outputs": [],
   "source": [
    "# Listing 1-21\n",
    "\n",
    "for col in ['AppointmentRegistration', 'ApointmentData']:\n",
    "    for index, component in enumerate(['year', 'month', 'day']):\n",
    "        data['%s_%s'%(col, component)] = data[col].apply(lambda x: int(x.split('T')[0].split('-')[index]))"
   ]
  },
  {
   "cell_type": "code",
   "execution_count": null,
   "id": "ab8eeca5",
   "metadata": {},
   "outputs": [],
   "source": [
    "# Listing 1-22\n",
    "\n",
    "for index, component in enumerate(['hour', 'min', 'sec']):\n",
    "    data['%s_%s'%('AppointmentRegistration', component)] = data['AppointmentRegistration'].apply(\n",
    "\tlambda x: int(x.split('T')[1][:-1].split(':')[index]))"
   ]
  },
  {
   "cell_type": "code",
   "execution_count": null,
   "id": "00a07992",
   "metadata": {},
   "outputs": [],
   "source": [
    "# Listing 1-23\n",
    "\n",
    "data.head()"
   ]
  },
  {
   "cell_type": "code",
   "execution_count": null,
   "id": "bd349836",
   "metadata": {},
   "outputs": [],
   "source": [
    "# Listing 1-24\n",
    "\n",
    "def model_performance(model_name, X_train, y_train, y_test, Y_pred):\n",
    "\n",
    "    print 'Model name: %s'%model_name\n",
    "    print 'Test accuracy (Accuracy Score): %f'%metrics.accuracy_score(y_test, Y_pred)\n",
    "    print 'Test accuracy (ROC AUC Score): %f'%metrics.roc_auc_score(y_test, Y_pred)\n",
    "    print 'Train accuracy: %f'%clf.score(X_train, y_train)\n",
    "\n",
    "    fpr, tpr, thresholds = metrics.precision_recall_curve(y_test, Y_pred)\n",
    "    print 'Area Under the Precision-Recall Curve: %f'%metrics.auc(fpr, tpr)\n",
    "    \n",
    "    false_positive_rate, true_positive_rate, thresholds = metrics.roc_curve(y_test, Y_pred)\n",
    "    roc_auc = metrics.auc(false_positive_rate, true_positive_rate)\n",
    "    \n",
    "    plt.title('Receiver Operating Characteristic')\n",
    "    plt.plot(false_positive_rate, true_positive_rate, 'b',\n",
    "    label='AUC = %0.2f'% roc_auc)\n",
    "    plt.legend(loc='lower right')\n",
    "    plt.plot([0,1],[0,1],'r--')\n",
    "    plt.xlim([-0.1,1.2])\n",
    "    plt.ylim([-0.1,1.2])\n",
    "    plt.ylabel('True Positive Rate')\n",
    "    plt.xlabel('False Positive Rate')\n",
    "    plt.show()"
   ]
  },
  {
   "cell_type": "code",
   "execution_count": null,
   "id": "95b4bb0d",
   "metadata": {},
   "outputs": [],
   "source": [
    "# Listing 1-25\n",
    "\n",
    "features_of_choice = [u'Age', u'Gender', 'DayOfTheWeek', 'Diabetes', 'Alcoolism', 'HiperTension',\n",
    "                        'Smokes', 'Scholarship', 'Tuberculosis', 'Sms_Reminder',\n",
    "                        'AwaitingTime', 'AppointmentRegistration_year', 'AppointmentRegistration_month',\n",
    "                        'AppointmentRegistration_day', 'ApointmentData_year', 'ApointmentData_month',\n",
    "                        'ApointmentData_day', 'AppointmentRegistration_hour', 'AppointmentRegistration_min',\n",
    "                        'AppointmentRegistration_sec']\n",
    "\n",
    "\n",
    "x = np.array(data[features_of_choice])\n",
    "y = np.array(data['Status'])\n",
    "\n",
    "x_train, x_test, y_train, y_test = train_test_split(x, y, test_size=0.3, random_state=1)"
   ]
  },
  {
   "cell_type": "code",
   "execution_count": null,
   "id": "570f191b",
   "metadata": {},
   "outputs": [],
   "source": [
    "# Listing 1-26\n",
    "\n",
    "clf = DecisionTreeClassifier()\n",
    "clf.fit(x_train, y_train)"
   ]
  },
  {
   "cell_type": "code",
   "execution_count": null,
   "id": "2719b91f",
   "metadata": {},
   "outputs": [],
   "source": [
    "# Listing 1-27\n",
    "\n",
    "y_pred = clf.predict(x_test)\n",
    "model_performance('Decision tree classifier', x_train, y_train, y_test, y_pred)"
   ]
  },
  {
   "cell_type": "code",
   "execution_count": null,
   "id": "61f12b86",
   "metadata": {},
   "outputs": [],
   "source": [
    "# Listing 1-28\n",
    "\n",
    "rbf_feature = kernel_approximation.RBFSampler(gamma=1, random_state=1)\n",
    "X_train = rbf_feature.fit_transform(x_train)\n",
    "\n",
    "clf = SGDClassifier()\n",
    "clf.fit(X_train, y_train)"
   ]
  },
  {
   "cell_type": "code",
   "execution_count": null,
   "id": "525c6093",
   "metadata": {},
   "outputs": [],
   "source": [
    "# Listing 1-29\n",
    "\n",
    "X_test = rbf_feature.fit_transform(x_test)\n",
    "Y_pred = clf.predict(X_test)\n",
    "model_performance('Kernel approximation', X_train, y_train, y_test, Y_pred)"
   ]
  },
  {
   "cell_type": "code",
   "execution_count": null,
   "id": "2fe279d3",
   "metadata": {},
   "outputs": [],
   "source": [
    "# Listing 1-30\n",
    "\n",
    "clf = RandomForestClassifier()\n",
    "clf.fit(x_train, y_train)"
   ]
  },
  {
   "cell_type": "code",
   "execution_count": null,
   "id": "d4ba9bcc",
   "metadata": {},
   "outputs": [],
   "source": [
    "# Listing 1-31\n",
    "\n",
    "y_pred = clf.predict(x_test)\n",
    "model_performance('Random Forest', x_train, y_train, y_test, y_pred)"
   ]
  },
  {
   "cell_type": "code",
   "execution_count": null,
   "id": "f50e7963",
   "metadata": {},
   "outputs": [],
   "source": [
    "# Listing 1-32\n",
    "\n",
    "clf = GradientBoostingClassifier(random_state=10, learning_rate=0.1, n_estimators=200, max_depth=5, max_features=10)\n",
    "clf.fit(x_train, y_train)\n",
    "y_pred = clf.predict(x_test)"
   ]
  },
  {
   "cell_type": "code",
   "execution_count": null,
   "id": "6aac00a4",
   "metadata": {},
   "outputs": [],
   "source": [
    "# Listing 1-33\n",
    "\n",
    "model_performance('Gradient Boosting', x_train, y_train, y_test, y_pred)"
   ]
  }
 ],
 "metadata": {},
 "nbformat": 4,
 "nbformat_minor": 5
}
