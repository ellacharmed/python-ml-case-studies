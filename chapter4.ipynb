{
 "cells": [
  {
   "cell_type": "markdown",
   "id": "0a5a2262",
   "metadata": {},
   "source": [
    "# Chapter 4 "
   ]
  },
  {
   "cell_type": "code",
   "execution_count": null,
   "id": "90e30f8b",
   "metadata": {},
   "outputs": [],
   "source": [
    "# Listing 1-1\n",
    "\n",
    "%matplotlib inline\n",
    "\n",
    "import operator\n",
    "import itertools\n",
    "import numpy as np\n",
    "import pandas as pd\n",
    "from ggplot import *\n",
    "import seaborn as sns\n",
    "import matplotlib as mpl\n",
    "from sklearn import mixture\n",
    "import matplotlib.pyplot as plt\n",
    "from matplotlib.pylab import rcParams\n",
    "from sklearn.decomposition import PCA\n",
    "from wordcloud import WordCloud, STOPWORDS\n",
    "from scipy.spatial.distance import cdist, pdist\n",
    "from sklearn.cluster import KMeans, SpectralClustering\n",
    "from sklearn.metrics import euclidean_distances, silhouette_score\n",
    "\n",
    "rcParams['figure.figsize'] = 15, 5"
   ]
  },
  {
   "cell_type": "code",
   "execution_count": null,
   "id": "b8661f26",
   "metadata": {},
   "outputs": [],
   "source": [
    "# Listing 1-2\n",
    "\n",
    "data_train = pd.read_csv('examples/[UCI] AAAI-14 Accepted Papers - Papers.csv')\n",
    "data_train = data_train[['title', 'groups', 'keywords', 'topics']]"
   ]
  },
  {
   "cell_type": "code",
   "execution_count": null,
   "id": "54d3115b",
   "metadata": {},
   "outputs": [],
   "source": [
    "# Listing 1-3\n",
    "\n",
    "print len(data_train)\n",
    "data_train.head()"
   ]
  },
  {
   "cell_type": "code",
   "execution_count": null,
   "id": "3eb1d082",
   "metadata": {},
   "outputs": [],
   "source": [
    "# Listing 1-4\n",
    "\n",
    "s = data_train['groups'].str.split('\\n').apply(pd.Series, 1).stack()\n",
    "s.index = s.index.droplevel(-1)\n",
    "s.name = 'groups'\n",
    "del data_train['groups']\n",
    "data_train = data_train.join(s).reset_index()"
   ]
  },
  {
   "cell_type": "code",
   "execution_count": null,
   "id": "76cdd7cc",
   "metadata": {},
   "outputs": [],
   "source": [
    "# Listing 1-5\n",
    "\n",
    "data_train['flags'] = pd.Series(np.ones(len(data_train)), index=data_train.index)\n",
    "data_train.head()"
   ]
  },
  {
   "cell_type": "code",
   "execution_count": null,
   "id": "6440f987",
   "metadata": {},
   "outputs": [],
   "source": [
    "# Listing 1-6\n",
    "\n",
    "def matrix_from_df(data_train):\n",
    "\n",
    "    matrix = data_train.pivot_table(index = ['title'], columns=['groups'], values='flags')\n",
    "    matrix = matrix.fillna(0).reset_index()\n",
    "    x_cols = matrix.columns[1:]\n",
    "    return matrix, x_cols"
   ]
  },
  {
   "cell_type": "code",
   "execution_count": null,
   "id": "40421704",
   "metadata": {},
   "outputs": [],
   "source": [
    "# Listing 1-7\n",
    "\n",
    "matrix, x_cols = matrix_from_df(data_train)\n",
    "matrix.head()"
   ]
  },
  {
   "cell_type": "code",
   "execution_count": null,
   "id": "9273a21e",
   "metadata": {},
   "outputs": [],
   "source": [
    "# Listing 1-8\n",
    "\n",
    "matrix, x_cols = matrix_from_df(data_train)\n",
    "X = matrix[x_cols]\n",
    "\n",
    "K = range(1,50)\n",
    "KM = [KMeans(n_clusters=k).fit(X) for k in K]\n",
    "centroids = [k.cluster_centers_ for k in KM]\n",
    "\n",
    "D_k = [cdist(X, cent, 'euclidean') for cent in centroids]\n",
    "dist = [np.min(D,axis=1) for D in D_k]\n",
    "avgWithinSS = [sum(d)/X.shape[0] for d in dist]\n",
    "\n",
    "fig = plt.figure()\n",
    "ax = fig.add_subplot(111)\n",
    "ax.plot(K, avgWithinSS, 'b*-')\n",
    "plt.grid(True)\n",
    "plt.xlabel('Number of clusters')\n",
    "plt.ylabel('Average within-cluster sum of squares')\n",
    "plt.title('Elbow for KMeans clustering')"
   ]
  },
  {
   "cell_type": "code",
   "execution_count": null,
   "id": "cc97dfec",
   "metadata": {},
   "outputs": [],
   "source": [
    "# Listing 1-9\n",
    "\n",
    "matrix, x_cols = matrix_from_df(data_train)\n",
    "X = matrix[x_cols]\n",
    "\n",
    "K = range(1,50)\n",
    "KM = [KMeans(n_clusters=k).fit(X) for k in K]\n",
    "centroids = [k.cluster_centers_ for k in KM]\n",
    "\n",
    "D_k = [cdist(X, cent, 'euclidean') for cent in centroids]\n",
    "dist = [np.min(D,axis=1) for D in D_k]\n",
    "\n",
    "wcss = [sum(d**2) for d in dist]\n",
    "tss = sum(pdist(X)**2)/X.shape[0]\n",
    "bss = tss-wcss\n",
    "\n",
    "kIdx = 10-1\n",
    "\n",
    "fig = plt.figure()\n",
    "ax = fig.add_subplot(111)\n",
    "ax.plot(K, bss/tss*100, 'b*-')\n",
    "plt.grid(True)\n",
    "plt.xlabel('Number of clusters')\n",
    "plt.ylabel('Percentage of variance explained')\n",
    "plt.title('Elbow for KMeans clustering')"
   ]
  },
  {
   "cell_type": "code",
   "execution_count": null,
   "id": "e8e08d1f",
   "metadata": {},
   "outputs": [],
   "source": [
    "# Listing 1-10\n",
    "\n",
    "s = []\n",
    "\n",
    "for n_clusters in range(2,30):\n",
    "    kmeans = KMeans(n_clusters=n_clusters)\n",
    "    kmeans.fit(X)\n",
    "\n",
    "    labels = kmeans.labels_\n",
    "    centroids = kmeans.cluster_centers_\n",
    "\n",
    "    s.append(silhouette_score(X, labels, metric='euclidean'))\n",
    "\n",
    "plt.plot(s)\n",
    "plt.ylabel(\"Silouette\")\n",
    "plt.xlabel(\"k\")\n",
    "plt.title(\"Silouette for K-means cell's behaviour\")\n",
    "sns.despine()"
   ]
  },
  {
   "cell_type": "code",
   "execution_count": null,
   "id": "a17d85a2",
   "metadata": {},
   "outputs": [],
   "source": [
    "# Listing 1-11\n",
    "\n",
    "matrix, x_cols = matrix_from_df(data_train)\n",
    "X = matrix[x_cols]\n",
    "\n",
    "cluster = KMeans(n_clusters = 9, random_state = 2)\n",
    "matrix['cluster'] = cluster.fit_predict(X)\n",
    "matrix.cluster.value_counts()"
   ]
  },
  {
   "cell_type": "code",
   "execution_count": null,
   "id": "cfeb51b3",
   "metadata": {},
   "outputs": [],
   "source": [
    "# Listing 1-12\n",
    "\n",
    "pca = PCA(n_components=2)\n",
    "matrix['x'] = pca.fit_transform(matrix[x_cols])[:,0]\n",
    "matrix['y'] = pca.fit_transform(matrix[x_cols])[:,1]\n",
    "matrix = matrix.reset_index()\n",
    "\n",
    "customer_clusters = matrix[['title', 'cluster', 'x', 'y']]\n",
    "customer_clusters.head()"
   ]
  },
  {
   "cell_type": "code",
   "execution_count": null,
   "id": "04835cc6",
   "metadata": {},
   "outputs": [],
   "source": [
    "# Listing 1-13\n",
    "\n",
    "cluster_centers = pca.transform(cluster.cluster_centers_)\n",
    "cluster_centers = pd.DataFrame(cluster_centers, columns=['x', 'y'])\n",
    "cluster_centers['cluster'] = range(0, len(cluster_centers))\n",
    "\n",
    "plt.scatter(customer_clusters['x'], customer_clusters['y'], s = 20, c=customer_clusters['cluster'])\n",
    "plt.scatter(cluster_centers['x'], cluster_centers['y'], s = 150, c=cluster_centers['cluster'])"
   ]
  },
  {
   "cell_type": "code",
   "execution_count": null,
   "id": "c3e78670",
   "metadata": {},
   "outputs": [],
   "source": [
    "# Listing 1-14\n",
    "\n",
    "customer_clusters.columns.name = None\n",
    "df = data_train.merge(customer_clusters, on='title')\n",
    "df.head()"
   ]
  },
  {
   "cell_type": "code",
   "execution_count": null,
   "id": "138da119",
   "metadata": {},
   "outputs": [],
   "source": [
    "# Listing 1-15\n",
    "\n",
    "def wordcloud_object(word_string):\n",
    "\n",
    "    FONT_ROOT = './fonts/'\n",
    "    wordcloud = WordCloud(font_path=FONT_ROOT + 'arial.ttf',stopwords=STOPWORDS, background_color='black', width=1200, height=1000).generate(' '.join(word_string))\n",
    "    return wordcloud"
   ]
  },
  {
   "cell_type": "code",
   "execution_count": null,
   "id": "9d09d7b2",
   "metadata": {},
   "outputs": [],
   "source": [
    "# Listing 1-16\n",
    "\n",
    "def plot_wordcloud(df, clusters, pivot):\n",
    "\n",
    "    fig = plt.figure(figsize=(15,29.5))\n",
    "    for cluster in range(clusters):\n",
    "        List_ = []\n",
    "\n",
    "        for x in df[df['cluster']==cluster][pivot]:\n",
    "            try:\n",
    "                List_.extend(x.split('\\n'))\n",
    "            except:\n",
    "                pass\n",
    "\n",
    "        if List_:\n",
    "            ax = fig.add_subplot(5,2,cluster+1)\n",
    "            wordcloud = wordcloud_object(List_)\n",
    "            plt.title('Cluster: %d'%(cluster+1))\n",
    "            ax.imshow(wordcloud)\n",
    "            ax.axis('off')"
   ]
  },
  {
   "cell_type": "code",
   "execution_count": null,
   "id": "d9312155",
   "metadata": {},
   "outputs": [],
   "source": [
    "# Listing 1-17\n",
    "\n",
    "plot_wordcloud(df, cluster.n_clusters, 'keywords')"
   ]
  },
  {
   "cell_type": "code",
   "execution_count": null,
   "id": "bce658f7",
   "metadata": {},
   "outputs": [],
   "source": [
    "# Listing 1-18\n",
    "\n",
    "def perform_cluster_group_audit(clusters, term):\n",
    "\n",
    "    for cluster in clusters:\n",
    "\n",
    "        df_cluster = df[df['cluster'] == cluster]\n",
    "        print 'Cluster number: %d'%(cluster + 1)\n",
    "        keywords = list(df_cluster['keywords'])\n",
    "        keywords = [keyword.split('\\n') for keyword in keywords]\n",
    "        keywords = [item for sublist in keywords for item in sublist]\n",
    "        keywords = [keyword.lower() for keyword in keywords if term in keyword.lower()]\n",
    "        keywords_freq = {x:keywords.count(x) for x in keywords}\n",
    "        print sorted(keywords_freq.items(), key=operator.itemgetter(1), reverse=True)\n",
    "        print '\\n'"
   ]
  },
  {
   "cell_type": "code",
   "execution_count": null,
   "id": "126016ba",
   "metadata": {},
   "outputs": [],
   "source": [
    "# Listing 1-19\n",
    "\n",
    "perform_cluster_group_audit([0,4], 'search')"
   ]
  },
  {
   "cell_type": "code",
   "execution_count": null,
   "id": "170019ec",
   "metadata": {},
   "outputs": [],
   "source": [
    "# Listing 1-20\n",
    "\n",
    "perform_cluster_group_audit([2,3,6], 'social')"
   ]
  },
  {
   "cell_type": "code",
   "execution_count": null,
   "id": "9e736cf9",
   "metadata": {},
   "outputs": [],
   "source": [
    "# Listing 1-21\n",
    "\n",
    "def plot_results(X, Y_, means, covariances, index, title):\n",
    "\n",
    "    color_iter = itertools.cycle(['b', 'g', 'red', 'm', 'y', 'navy', 'c', 'cornflowerblue', 'gold',\n",
    "                              'darkorange'])\n",
    "    splot = plt.subplot(2, 1, 1 + index)\n",
    "    for i, (mean, covar, color) in enumerate(zip(\n",
    "            means, covariances, color_iter)):\n",
    "        v, w = np.linalg.eigh(covar)\n",
    "        v = 2. * np.sqrt(2.) * np.sqrt(v)\n",
    "        u = w[0] / np.linalg.norm(w[0])\n",
    "\n",
    "        if not np.any(Y_ == i):\n",
    "            continue\n",
    "        plt.scatter(X[Y_ == i, 0], X[Y_ == i, 1], .8, color=color)\n",
    "\n",
    "        angle = np.arctan(u[1] / u[0])\n",
    "        angle = 180. * angle / np.pi  # convert to degrees\n",
    "        ell = mpl.patches.Ellipse(mean, v[0], v[1], 180. + angle, color=color)\n",
    "        ell.set_clip_box(splot.bbox)\n",
    "        ell.set_alpha(0.5)\n",
    "        splot.add_artist(ell)\n",
    "\n",
    "    plt.xlim(0.0, 0.1)\n",
    "    plt.ylim(-0.2, 1.2)\n",
    "    \n",
    "    plt.xticks(())\n",
    "    plt.yticks(())\n",
    "    plt.title(title)"
   ]
  },
  {
   "cell_type": "code",
   "execution_count": null,
   "id": "d3accde1",
   "metadata": {},
   "outputs": [],
   "source": [
    "# Listing 1-22\n",
    "\n",
    "matrix, x_cols = matrix_from_df(data_train)\n",
    "X  = matrix[x_cols].as_matrix()\n",
    "model_stats = []\n",
    "n_components_range = range(2, 10)\n",
    "cv_types = ['spherical', 'tied', 'full']\n",
    "for cv_type in cv_types:\n",
    "    for n_components in n_components_range:\n",
    "\n",
    "        gmm = mixture.GaussianMixture(n_components=n_components,\n",
    "                                      covariance_type=cv_type, random_state=0)\n",
    "        gmm.fit(X)\n",
    "        model_stats.append({'name':'%s_%d'%(cv_type, n_components), 'model':gmm, 'bic':gmm.bic(X)})\n",
    "\n",
    "bic = np.array([m_type['bic'] for m_type in model_stats])\n",
    "best_gmm = model_stats[bic.argmax()]\n",
    "clf = best_gmm['model']\n",
    "color_iter = itertools.cycle(['navy', 'turquoise', 'cornflowerblue'])\n",
    "\n",
    "bars = []\n",
    "\n",
    "# Plot the BIC scores\n",
    "spl = plt.subplot(2, 1, 1)\n",
    "for i, (cv_type, color) in enumerate(zip(cv_types, color_iter)):\n",
    "    xpos = np.array(n_components_range) + .2 * (i - 2)\n",
    "    bars.append(plt.bar(xpos, bic[i * len(n_components_range):\n",
    "                                  (i + 1) * len(n_components_range)],\n",
    "                        width=.2, color=color))\n",
    "plt.xticks(n_components_range)\n",
    "plt.ylim([bic.min() * 1.01 - .01 * bic.max(), bic.max()])\n",
    "plt.title('BIC score per model')\n",
    "spl.set_xlabel('Number of components')\n",
    "spl.legend([b[0] for b in bars], cv_types)\n",
    "\n",
    "labels = clf.predict(X)\n",
    "plot_results(X, labels, gmm.means_, gmm.covariances_, 1,\n",
    "             'Gaussian Mixture-%s'%gmm.converged_)\n",
    "\n",
    "plt.xticks(())\n",
    "plt.yticks(())\n",
    "plt.title('Selected GMM: %s model, %s components'%(best_gmm['name'].split('_')[0], best_gmm['name'].split('_')[1]))\n",
    "plt.subplots_adjust(hspace=.35, bottom=.02)\n",
    "plt.show()"
   ]
  },
  {
   "cell_type": "code",
   "execution_count": null,
   "id": "f912badc",
   "metadata": {},
   "outputs": [],
   "source": [
    "# Listing 1-23\n",
    "\n",
    "matrix['cluster'] = labels\n",
    "matrix.cluster.value_counts()"
   ]
  },
  {
   "cell_type": "code",
   "execution_count": null,
   "id": "d41b03bd",
   "metadata": {},
   "outputs": [],
   "source": [
    "# Listing 1-24\n",
    "\n",
    "customer_clusters.columns.name = None\n",
    "df = data_train.merge(customer_clusters, on='title')"
   ]
  },
  {
   "cell_type": "code",
   "execution_count": null,
   "id": "a1fcaaef",
   "metadata": {},
   "outputs": [],
   "source": [
    "# Listing 1-25\n",
    "\n",
    "plot_wordcloud(df, gmm.n_components, 'keywords')"
   ]
  },
  {
   "cell_type": "code",
   "execution_count": null,
   "id": "61528877",
   "metadata": {},
   "outputs": [],
   "source": [
    "# Listing 1-26\n",
    "\n",
    "matrix, x_cols = matrix_from_df(data_train)\n",
    "X  = matrix[x_cols].as_matrix()\n",
    "\n",
    "dpgmm = mixture.BayesianGaussianMixture(n_components=3,\n",
    "                                        covariance_type='full', random_state=1).fit(X)\n",
    "\n",
    "labels = dpgmm.predict(X)\n",
    "plot_results(X, labels, dpgmm.means_, dpgmm.covariances_, 1,\n",
    "             'Bayesian Gaussian Mixture with a Dirichlet process prior-%s'%dpgmm.converged_)\n",
    "\n",
    "plt.show()"
   ]
  },
  {
   "cell_type": "code",
   "execution_count": null,
   "id": "3fba3100",
   "metadata": {},
   "outputs": [],
   "source": [
    "# Listing 1-27\n",
    "\n",
    "matrix['cluster'] = labels\n",
    "matrix.cluster.value_counts()"
   ]
  },
  {
   "cell_type": "code",
   "execution_count": null,
   "id": "335e3f1d",
   "metadata": {},
   "outputs": [],
   "source": [
    "# Listing 1-28\n",
    "\n",
    "customer_clusters.columns.name = None\n",
    "df = data_train.merge(customer_clusters, on='title')"
   ]
  },
  {
   "cell_type": "code",
   "execution_count": null,
   "id": "cbe5cb44",
   "metadata": {},
   "outputs": [],
   "source": [
    "# Listing 1-29\n",
    "\n",
    "plot_wordcloud(df, dpgmm.n_components, 'keywords')"
   ]
  }
 ],
 "metadata": {},
 "nbformat": 4,
 "nbformat_minor": 5
}
