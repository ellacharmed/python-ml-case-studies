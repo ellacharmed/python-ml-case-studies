{
 "cells": [
  {
   "cell_type": "markdown",
   "id": "dbc30985",
   "metadata": {},
   "source": [
    "# Chapter 1 "
   ]
  },
  {
   "cell_type": "code",
   "execution_count": null,
   "id": "aad42264",
   "metadata": {},
   "outputs": [],
   "source": [
    "# Listing 1-1\n",
    "\n",
    "%matplotlib inline\n",
    "\n",
    "import random\n",
    "import datetime\n",
    "import pandas as pd\n",
    "import matplotlib.pyplot as plt\n",
    "import statistics\n",
    "import numpy as np\n",
    "import scipy\n",
    "from scipy import stats\n",
    "import seaborn\n"
   ]
  },
  {
   "cell_type": "code",
   "execution_count": null,
   "id": "4fce334c",
   "metadata": {},
   "outputs": [],
   "source": [
    "# Listing 1-2\n",
    "\n",
    "data = pd.read_csv('examples/trip.csv')"
   ]
  },
  {
   "cell_type": "code",
   "execution_count": null,
   "id": "3cb8e8a8",
   "metadata": {},
   "outputs": [],
   "source": [
    "# Listing 1-3\n",
    "\n",
    "print len(data)\n",
    "data.head()"
   ]
  },
  {
   "cell_type": "code",
   "execution_count": null,
   "id": "04e9cd67",
   "metadata": {},
   "outputs": [],
   "source": [
    "# Listing 1-4\n",
    "\n",
    "data = data.sort_values(by='starttime')\n",
    "data.reset_index()\n",
    "print 'Date range of dataset: %s - %s'%(data.ix[1, 'starttime'], data.ix[len(data)-1, 'stoptime'])"
   ]
  },
  {
   "cell_type": "code",
   "execution_count": null,
   "id": "47563089",
   "metadata": {},
   "outputs": [],
   "source": [
    "# Listing 1-5\n",
    "\n",
    "groupby_user = data.groupby('usertype').size()\n",
    "groupby_user.plot.bar(title = 'Distribution of user types')"
   ]
  },
  {
   "cell_type": "code",
   "execution_count": null,
   "id": "1ad7304f",
   "metadata": {},
   "outputs": [],
   "source": [
    "# Listing 1-6\n",
    "\n",
    "groupby_gender = data.groupby('gender').size()\n",
    "groupby_gender.plot.bar(title = 'Distribution of genders')"
   ]
  },
  {
   "cell_type": "code",
   "execution_count": null,
   "id": "362f26a8",
   "metadata": {},
   "outputs": [],
   "source": [
    "# Listing 1-7\n",
    "\n",
    "data = data.sort_values(by='birthyear')\n",
    "groupby_birthyear = data.groupby('birthyear').size()\n",
    "groupby_birthyear.plot.bar(title = 'Distribution of birth years', figsize = (15,4))"
   ]
  },
  {
   "cell_type": "code",
   "execution_count": null,
   "id": "665a9673",
   "metadata": {},
   "outputs": [],
   "source": [
    "# Listing 1-8\n",
    "\n",
    "data_mil = data[(data['birthyear'] >= 1977) & (data['birthyear']<=1994)]\n",
    "groupby_mil = data_mil.groupby('usertype').size()\n",
    "groupby_mil.plot.bar(title = 'Distribution of user types')"
   ]
  },
  {
   "cell_type": "code",
   "execution_count": null,
   "id": "3fb6a038",
   "metadata": {},
   "outputs": [],
   "source": [
    "# Listing 1-9\n",
    "\n",
    "groupby_birthyear_gender = data.groupby(['birthyear', 'gender'])['birthyear'].count().unstack('gender').fillna(0)\n",
    "groupby_birthyear_gender[['Male','Female','Other']].plot.bar(title = 'Distribution of birth years by Gender', stacked=True, figsize = (15,4))"
   ]
  },
  {
   "cell_type": "code",
   "execution_count": null,
   "id": "d5e22d92",
   "metadata": {},
   "outputs": [],
   "source": [
    "# Listing 1-10\n",
    "\n",
    "groupby_birthyear_user = data.groupby(['birthyear', 'usertype'])['birthyear'].count().unstack('usertype').fillna(0)\n",
    "groupby_birthyear_user['Member'].plot.bar(title = 'Distribution of birth years by Usertype', stacked=True, figsize = (15,4))"
   ]
  },
  {
   "cell_type": "code",
   "execution_count": null,
   "id": "62bbe923",
   "metadata": {},
   "outputs": [],
   "source": [
    "# Listing 1-11\n",
    "\n",
    "data[data['usertype']=='Short-Term Pass Holder']['birthyear'].isnull().values.all()"
   ]
  },
  {
   "cell_type": "code",
   "execution_count": null,
   "id": "297ab557",
   "metadata": {},
   "outputs": [],
   "source": [
    "# Listing 1-12\n",
    "\n",
    "data[data['usertype']=='Short-Term Pass Holder']['gender'].isnull().values.all()"
   ]
  },
  {
   "cell_type": "code",
   "execution_count": null,
   "id": "e71a5616",
   "metadata": {},
   "outputs": [],
   "source": [
    "# Listing 1-13\n",
    "\n",
    "List_ = list(data['starttime'])\n",
    "\n",
    "List_ = [datetime.datetime.strptime(x, \"%m/%d/%Y %H:%M\") for x in List_]\n",
    "data['starttime_mod'] = pd.Series(List_,index=data.index)\n",
    "data['starttime_date'] = pd.Series([x.date() for x in List_],index=data.index)\n",
    "data['starttime_year'] = pd.Series([x.year for x in List_],index=data.index)\n",
    "data['starttime_month'] = pd.Series([x.month for x in List_],index=data.index)\n",
    "data['starttime_day'] = pd.Series([x.day for x in List_],index=data.index)\n",
    "data['starttime_hour'] = pd.Series([x.hour for x in List_],index=data.index)"
   ]
  },
  {
   "cell_type": "code",
   "execution_count": null,
   "id": "7c37d5bd",
   "metadata": {},
   "outputs": [],
   "source": [
    "# Listing 1-14\n",
    "\n",
    "data.groupby('starttime_date')['tripduration'].mean().plot.bar(title = 'Distribution of Trip duration by date', figsize = (15,4))"
   ]
  },
  {
   "cell_type": "code",
   "execution_count": null,
   "id": "492da469",
   "metadata": {},
   "outputs": [],
   "source": [
    "# Listing 1-15\n",
    "\n",
    "trip_duration = list(data['tripduration'])\n",
    "station_from = list(data['from_station_name'])\n",
    "print 'Mean of trip duration: %f'%statistics.mean(trip_duration)\n",
    "print 'Median of trip duration: %f'%statistics.median(trip_duration)\n",
    "print 'Mode of station originating from: %s'%statistics.mode(station_from)"
   ]
  },
  {
   "cell_type": "code",
   "execution_count": null,
   "id": "1e0a8203",
   "metadata": {},
   "outputs": [],
   "source": [
    "# Listing 1-16\n",
    "\n",
    "data['tripduration'].plot.hist(bins=100, title='Frequency distribution of Trip duration')\n",
    "plt.show()"
   ]
  },
  {
   "cell_type": "code",
   "execution_count": null,
   "id": "8f70f904",
   "metadata": {},
   "outputs": [],
   "source": [
    "# Listing 1-17\n",
    "\n",
    "# [Q1 - 1.5 (IQR) ,  Q3 + 1.5 (IQR) ] (i.e. IQR = Q3 - Q1)"
   ]
  },
  {
   "cell_type": "code",
   "execution_count": null,
   "id": "68654b01",
   "metadata": {},
   "outputs": [],
   "source": [
    "# Listing 1-18\n",
    "\n",
    "box = data.boxplot(column=['tripduration'])\n",
    "plt.show()"
   ]
  },
  {
   "cell_type": "code",
   "execution_count": null,
   "id": "b5074c67",
   "metadata": {},
   "outputs": [],
   "source": [
    "# Listing 1-19\n",
    "\n",
    "q75, q25 = np.percentile(trip_duration, [75 ,25])\n",
    "iqr = q75 - q25\n",
    "print 'Proportion of values as outlier: %f percent'%(\n",
    "(len(data) - len([x for x in trip_duration if q75+(1.5*iqr) >=x>= q25-(1.5*iqr)]))*100/float(len(data)))"
   ]
  },
  {
   "cell_type": "code",
   "execution_count": null,
   "id": "9b273ef5",
   "metadata": {},
   "outputs": [],
   "source": [
    "# Listing 1-20\n",
    "\n",
    "Number of outliers values = Length of all values - Length of all non outliers values"
   ]
  },
  {
   "cell_type": "code",
   "execution_count": null,
   "id": "8d806fab",
   "metadata": {},
   "outputs": [],
   "source": [
    "# Listing 1-21\n",
    "\n",
    "Ratio of outliers = ( Number of outliers values / Length of all values ) * 100"
   ]
  },
  {
   "cell_type": "code",
   "execution_count": null,
   "id": "6a1d8012",
   "metadata": {},
   "outputs": [],
   "source": [
    "# Listing 1-22\n",
    "\n",
    "mean_trip_duration = np.mean([x for x in trip_duration if q75+(1.5*iqr) >=x>= q25-(1.5*iqr)])\n",
    "upper_whisker = q75+(1.5*iqr)\n",
    "print 'Mean of trip duration: %f'%mean_trip_duration"
   ]
  },
  {
   "cell_type": "code",
   "execution_count": null,
   "id": "54ad34aa",
   "metadata": {},
   "outputs": [],
   "source": [
    "# Listing 1-23\n",
    "\n",
    "def transform_tripduration(x):\n",
    "    \n",
    "    if x > upper_whisker:\n",
    "        return mean_trip_duration\n",
    "    return x\n",
    "\n",
    "data['tripduration_mean'] = data['tripduration'].apply(lambda x: transform_tripduration(x))\n",
    "\n",
    "data['tripduration_mean'].plot.hist(bins=100, title='Frequency distribution of mean transformed Trip duration')\n",
    "plt.show()"
   ]
  },
  {
   "cell_type": "code",
   "execution_count": null,
   "id": "e9aa711f",
   "metadata": {},
   "outputs": [],
   "source": [
    "# Listing 1-24\n",
    "\n",
    "print 'Mean of trip duration: %f'%data['tripduration_mean'].mean()\n",
    "print 'Standard deviation of trip duration: %f'%data['tripduration_mean'].std()\n",
    "print 'Median of trip duration: %f'%data['tripduration_mean'].median()"
   ]
  },
  {
   "cell_type": "code",
   "execution_count": null,
   "id": "4c2dc3d4",
   "metadata": {},
   "outputs": [],
   "source": [
    "# Listing 1-25\n",
    "\n",
    "data = data.dropna()\n",
    "seaborn.pairplot(data, vars=['age', 'tripduration'], kind='reg')\n",
    "plt.show()"
   ]
  },
  {
   "cell_type": "code",
   "execution_count": null,
   "id": "90c6f757",
   "metadata": {},
   "outputs": [],
   "source": [
    "# Listing 1-26\n",
    "\n",
    "pd.set_option('display.width', 100)\n",
    "pd.set_option('precision', 3)\n",
    "\n",
    "data['age'] = data['starttime_year'] - data['birthyear']\n",
    "\n",
    "correlations = data[['tripduration','age']].corr(method='pearson')\n",
    "print(correlations)"
   ]
  },
  {
   "cell_type": "code",
   "execution_count": null,
   "id": "2a8b989f",
   "metadata": {},
   "outputs": [],
   "source": [
    "# Listing 1-27\n",
    "\n",
    "for cat in ['gender','usertype']:\n",
    "\n",
    "    print 'Category: %s\\n'%cat\n",
    "    groupby_category = data.groupby(['starttime_date', cat])['starttime_date'].count().unstack(cat)\n",
    "    groupby_category = groupby_category.dropna()\n",
    "    category_names = list(groupby_category.columns)\n",
    "\n",
    "    for comb in [(category_names[i],category_names[j]) for i in range(len(category_names)) for j in range(i+1, len(category_names))]:\n",
    "\n",
    "        print '%s %s'%(comb[0], comb[1])\n",
    "        t_statistics = stats.ttest_ind(list(groupby_category[comb[0]]), list(groupby_category[comb[1]]))\n",
    "        print 'Statistic: %f, P value: %f'%(t_statistics.statistic, t_statistics.pvalue)\n",
    "        print '\\n'"
   ]
  },
  {
   "cell_type": "code",
   "execution_count": null,
   "id": "927e8dd4",
   "metadata": {},
   "outputs": [],
   "source": [
    "# Listing 1-28\n",
    "\n",
    "daily_tickets = list(data.groupby('starttime_date').size())\n",
    "sample_tickets = []\n",
    "checkpoints = [1, 10, 100, 300, 500, 1000]\n",
    "plot_count = 1\n",
    "\n",
    "random.shuffle(daily_tickets)\n",
    "\n",
    "plt.figure(figsize=(15,7))\n",
    "binrange=np.array(np.linspace(0,700,101))\n",
    "\n",
    "for i in xrange(1000):\n",
    "    if daily_tickets:\n",
    "        sample_tickets.append(daily_tickets.pop())\n",
    "\n",
    "    if i+1 in checkpoints or not daily_tickets:\n",
    "        plt.subplot(2,3,plot_count)\n",
    "        plt.hist(sample_tickets, binrange)\n",
    "        plt.title('n=%d' % (i+1),fontsize=15)        \n",
    "        plot_count+=1\n",
    "\n",
    "    if not daily_tickets:\n",
    "\tbreak\n",
    "        \n",
    "plt.show()"
   ]
  }
 ],
 "metadata": {},
 "nbformat": 4,
 "nbformat_minor": 5
}
