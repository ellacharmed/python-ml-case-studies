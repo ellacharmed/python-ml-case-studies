{
 "cells": [
  {
   "attachments": {},
   "cell_type": "markdown",
   "id": "11bfccb9",
   "metadata": {},
   "source": [
    "# Chapter 1 Statistics and Probability"
   ]
  },
  {
   "attachments": {},
   "cell_type": "markdown",
   "id": "d9239a41",
   "metadata": {},
   "source": [
    "Case study for this chapter is on Cycle Sharing Scheme - determining Brand Persona\n",
    "\n",
    "The aim is to \"_lay out a strong marketing plan for reaching out to potential customers_\"\n",
    "\n",
    "Infrastructure expansion (more bikes and docking stations) by Jason, the Owner, did not result in increase rate of customer sign-ups nor customer retention\n",
    "\n",
    "Questions by marketer Nancy, and Data Analyst Eric:\n",
    "1. which attributes correlates the best with trip duration and number of trips?\n",
    "1. which age generation adapts the most to the service?\n"
   ]
  },
  {
   "cell_type": "code",
   "execution_count": null,
   "id": "56b083a4",
   "metadata": {},
   "outputs": [],
   "source": [
    "# Listing 1-1\n",
    "\n",
    "%matplotlib inline\n",
    "\n",
    "import random\n",
    "import datetime\n",
    "import pandas as pd\n",
    "import matplotlib.pyplot as plt\n",
    "import statistics\n",
    "import numpy as np\n",
    "import scipy\n",
    "from scipy import stats\n",
    "import seaborn\n"
   ]
  },
  {
   "cell_type": "code",
   "execution_count": null,
   "id": "f6495729",
   "metadata": {},
   "outputs": [],
   "source": [
    "import sys\n",
    "import matplotlib\n",
    "print(f\"python {sys.version}\")\n",
    "print(f\"numpy {np.__version__}\")\n",
    "print(f\"pandas {pd.__version__}\")\n",
    "print(f\"matplotlib {matplotlib.__version__}\")\n",
    "print(f\"scipy {scipy.__version__}\")\n",
    "print(f\"seaborn {seaborn.__version__}\")\n"
   ]
  },
  {
   "attachments": {},
   "cell_type": "markdown",
   "id": "90d96f7e",
   "metadata": {},
   "source": [
    "### Some information about the service\n",
    "\n",
    "- The service has 500 bikes at 50 stations across Seattle. \n",
    "- Each of the stations has a dock locking system (where all bikes are parked); \n",
    "    - kiosks (so customers can get a membership key or pay for a trip); and \n",
    "    - a helmet rental service. \n",
    "- A person can choose between purchasing \n",
    "    - a membership key or \n",
    "    - short-term pass. \n",
    "- A membership key entitles an annual membership, and the key can be obtained from a kiosk. \n",
    "- Advantages for members include \n",
    "    - quick retrieval of bikes and \n",
    "    - unlimited 45-minute rentals. \n",
    "- Short-term passes offer access to bikes for \n",
    "    - a 24-hour or \n",
    "    - 3-day time interval. \n",
    "- Riders can avail and return the bikes at any of the 50 stations citywide."
   ]
  },
  {
   "attachments": {},
   "cell_type": "markdown",
   "id": "bd0c5685",
   "metadata": {},
   "source": [
    "Table 1-1. Data Dictionary for the Trips Data from Cycles Share Dataset\n",
    "\n",
    "|Feature name | Description|\n",
    "|:----|:----|\n",
    "|trip_id|Unique ID assigned to each trip|\n",
    "|Starttime|Day and time when the trip started, in PST|\n",
    "|Stoptime|Day and time when the trip ended, in PST|\n",
    "|Bikeid |ID attached to each bike|\n",
    "|Tripduration |Time of trip in seconds|\n",
    "|from_station_name | Name of station where the trip originated|\n",
    "| to_station_name | Name of station where the trip terminated|\n",
    "| from_station_id | ID of station where trip originated\n",
    "|to_station_id |ID of station where trip terminated |\n",
    "|Usertype |Value can include either of the following: short-term pass holder or member|\n",
    "|Gender |Gender of the rider |\n",
    "|Birthyear|Birth year of the rider |\n",
    "\n",
    "Dependent vairable: `tripduration`"
   ]
  },
  {
   "cell_type": "code",
   "execution_count": null,
   "id": "ab56980a",
   "metadata": {},
   "outputs": [],
   "source": [
    "# Listing 1-2\n",
    "\n",
    "data = pd.read_csv('datasets/Chapter 1/trip.csv')"
   ]
  },
  {
   "cell_type": "code",
   "execution_count": null,
   "id": "009581ee",
   "metadata": {},
   "outputs": [],
   "source": [
    "data.shape"
   ]
  },
  {
   "attachments": {},
   "cell_type": "markdown",
   "id": "f3492163",
   "metadata": {},
   "source": [
    "Dataset has 236065 records (rows) and 12 features (columns)"
   ]
  },
  {
   "cell_type": "code",
   "execution_count": null,
   "id": "571d87a9",
   "metadata": {},
   "outputs": [],
   "source": [
    "# Listing 1-3\n",
    "\n",
    "print(len(data))\n",
    "data.head()"
   ]
  },
  {
   "cell_type": "code",
   "execution_count": null,
   "id": "895e1e74",
   "metadata": {},
   "outputs": [],
   "source": [
    "data.describe()"
   ]
  },
  {
   "attachments": {},
   "cell_type": "markdown",
   "id": "2d70930c",
   "metadata": {},
   "source": [
    "The above describe() analysis picks out the numerical features in the dataset. `trip_id` and `birthyear` distribution is nonsensical, so these 2 features need to be converted. And it seems, `birthyear` has some missing values.\n",
    "\n",
    "`tripduration` is in seconds and does not tally against description or metrics discussed, so better to convert to minutes for analysis."
   ]
  },
  {
   "cell_type": "code",
   "execution_count": null,
   "id": "30fbe294",
   "metadata": {},
   "outputs": [],
   "source": [
    "data.info()"
   ]
  },
  {
   "attachments": {},
   "cell_type": "markdown",
   "id": "20fb70ca",
   "metadata": {},
   "source": [
    "Observations on the data:\n",
    "- `tripduration` is in seconds\n",
    "- `trip_id` is an int\n",
    "- `starttime` and `stoptime` are strings. In order to perform datetime analysis, date features needs to be converted to DateTime format.\n",
    "- `gender` and `birthyear` have missing values\n",
    "- dataset does not provide userid, or any other identifiers for users. So there's no way to tell if same trips were taken repeatly by the same customers or different ones or even, a new customer. Therefore, we have no way of of telling if the trips are by new customers or not. Also does not contain length of membership for members of the service.\n",
    "- however, there's `bikeid` that can be analysed if repeat trips from or to same kiosks"
   ]
  },
  {
   "cell_type": "code",
   "execution_count": null,
   "id": "c50abdb7",
   "metadata": {},
   "outputs": [],
   "source": [
    "print(f\"% of missing 'gender': {(data['gender'].isnull().sum())/len(data)*100:.2f}\")\n",
    "print(f\"% of missing 'birthyear': {(data['birthyear'].isnull().sum())/len(data)*100:.2f}\")"
   ]
  },
  {
   "cell_type": "code",
   "execution_count": null,
   "id": "16ff9188",
   "metadata": {},
   "outputs": [],
   "source": [
    "data.tail()"
   ]
  },
  {
   "attachments": {},
   "cell_type": "markdown",
   "id": "d615a1fb",
   "metadata": {},
   "source": [
    "### Converting date columns to DateTime format"
   ]
  },
  {
   "cell_type": "code",
   "execution_count": null,
   "id": "40b88ee9",
   "metadata": {},
   "outputs": [],
   "source": [
    "for date_col in ['starttime', 'stoptime']:\n",
    "    data[date_col] = pd.to_datetime(data[date_col], format = \"%m/%d/%Y %H:%M\")"
   ]
  },
  {
   "attachments": {},
   "cell_type": "markdown",
   "id": "a35e2ae2",
   "metadata": {},
   "source": [
    "### Sort by `starttime`"
   ]
  },
  {
   "cell_type": "code",
   "execution_count": null,
   "id": "07547c78",
   "metadata": {},
   "outputs": [],
   "source": [
    "data = data.sort_values(by='starttime', ascending=True)\n",
    "data.reset_index()"
   ]
  },
  {
   "attachments": {},
   "cell_type": "markdown",
   "id": "1d8cea42",
   "metadata": {},
   "source": [
    "### Determine earliest and last date/time of records\n",
    "\n",
    "Insight from below analysis:\n",
    "- data is collected for 3 years, from October 2014 - September 2016\n",
    "- service is operational beyond traditional 9-5 office operational hours"
   ]
  },
  {
   "cell_type": "code",
   "execution_count": null,
   "id": "ca989f36",
   "metadata": {},
   "outputs": [],
   "source": [
    "print(f\"first entry in starttime series: {data['starttime'][0]}\")\n",
    "print(f\"last entry in stoptime series: {data['stoptime'][len((data))-1]}\")"
   ]
  },
  {
   "attachments": {},
   "cell_type": "markdown",
   "id": "ab8b358f",
   "metadata": {},
   "source": [
    "## Univariate Analysis"
   ]
  },
  {
   "cell_type": "code",
   "execution_count": null,
   "id": "0dbb0fc1",
   "metadata": {},
   "outputs": [],
   "source": [
    "# Listing 1-4\n",
    "\n",
    "# data = data.sort_values(by='starttime', ascending=True)\n",
    "# data.reset_index()\n",
    "# print('Date range of dataset: %s - %s'%(data.ix[1, 'starttime'], data.ix[len(data)-1, 'stoptime']))\n"
   ]
  },
  {
   "cell_type": "code",
   "execution_count": null,
   "id": "d584e9a0",
   "metadata": {},
   "outputs": [],
   "source": [
    "print(f\"Date range of dataset : {data['starttime'][0]} - {data['stoptime'][len((data))-1]}\")"
   ]
  },
  {
   "attachments": {},
   "cell_type": "markdown",
   "id": "3c6a4049",
   "metadata": {},
   "source": [
    "### Plotting Distribution of User Types\n",
    "\n",
    "Analysing who uses the service more: members or short-term pass holders?\n",
    "\n",
    "Seems that `usertype` **Member** is the majority of cyclers in Seattle who uses this bike-sharing service. "
   ]
  },
  {
   "cell_type": "code",
   "execution_count": null,
   "id": "edc0b4a0",
   "metadata": {},
   "outputs": [],
   "source": [
    "# Listing 1-5\n",
    "\n",
    "groupby_user = data.groupby('usertype').size()\n",
    "groupby_user.plot.bar(title = 'Distribution of user types')"
   ]
  },
  {
   "attachments": {},
   "cell_type": "markdown",
   "id": "730dc9e5",
   "metadata": {},
   "source": [
    "### Plotting Distribution by Gender\n",
    "\n",
    "Similarly, wondered whether Males or Females are the main users?\n",
    "\n",
    "Seems that `gender` **Male** is the majority of cyclers in Seattle who uses this bike-sharing service. "
   ]
  },
  {
   "cell_type": "code",
   "execution_count": null,
   "id": "84f262f7",
   "metadata": {},
   "outputs": [],
   "source": [
    "# Listing 1-6\n",
    "\n",
    "groupby_gender = data.groupby('gender').size()\n",
    "groupby_gender.plot.bar(title = 'Distribution of genders')"
   ]
  },
  {
   "attachments": {},
   "cell_type": "markdown",
   "id": "aa6a0698",
   "metadata": {},
   "source": [
    "### Plotting Distribution by BirthYear\n",
    "\n",
    "Analysing what age group of users utilised the service more?\n",
    "\n",
    "Seems that users born between early 1980s and late 1990s formed the majority of cyclers in Seattle who uses this bike-sharing service. "
   ]
  },
  {
   "cell_type": "code",
   "execution_count": null,
   "id": "91b0062d",
   "metadata": {},
   "outputs": [],
   "source": [
    "# Listing 1-7\n",
    "\n",
    "data = data.sort_values(by='birthyear')\n",
    "groupby_birthyear = data.groupby('birthyear').size()\n",
    "groupby_birthyear.plot.bar(title = 'Distribution of birth years', figsize = (15,4))"
   ]
  },
  {
   "attachments": {},
   "cell_type": "markdown",
   "id": "1f68d8e7",
   "metadata": {},
   "source": [
    "### Plotting Distribution by Frequency of usage by Member Types for Millenials\n",
    "\n",
    "Analysing among millenials who uses the service, are they members or pass-holders?\n",
    "\n",
    "Seems that `usertype` Member is the type cyclers among Millenials, in Seattle who uses this bike-sharing service. "
   ]
  },
  {
   "cell_type": "code",
   "execution_count": null,
   "id": "17b0c75c",
   "metadata": {},
   "outputs": [],
   "source": [
    "# Listing 1-8\n",
    "\n",
    "data_millenials = data[(data['birthyear'] >= 1977) & (data['birthyear']<=1994)]\n",
    "groupby_millenials = data_millenials.groupby('usertype').size()\n",
    "groupby_millenials.plot.bar(title = 'Distribution of user types by birthyear between 1977 and 1994')"
   ]
  },
  {
   "attachments": {},
   "cell_type": "markdown",
   "id": "ceb499ea",
   "metadata": {},
   "source": [
    "## Multivariate Analysis"
   ]
  },
  {
   "attachments": {},
   "cell_type": "markdown",
   "id": "b4df933b",
   "metadata": {},
   "source": [
    "### Plotting the Distribution of Birth Years by Gender Type\n",
    "\n",
    "Insight gained from graph is that indeed all cyclists who used the service where mostly men, execpt for those born in 1947 were all Women. Which makes sense as that is close to when the 2nd World War concluded, and thus explained the shortage of men everywhere."
   ]
  },
  {
   "cell_type": "code",
   "execution_count": null,
   "id": "962645b0",
   "metadata": {},
   "outputs": [],
   "source": [
    "# Listing 1-9\n",
    "\n",
    "groupby_birthyear_gender = data.groupby(['birthyear', 'gender'])['birthyear'].count().unstack('gender').fillna(0)\n",
    "groupby_birthyear_gender[['Male','Female','Other']].plot.bar(title = 'Distribution of birth years by Gender', stacked=True, figsize = (15,4))"
   ]
  },
  {
   "attachments": {},
   "cell_type": "markdown",
   "id": "e2587133",
   "metadata": {},
   "source": [
    "### Plotting the Distribution of Birth Years by User Types\n",
    "\n",
    "Only Members have their `birthyear` data recorded."
   ]
  },
  {
   "cell_type": "code",
   "execution_count": null,
   "id": "b24a546f",
   "metadata": {},
   "outputs": [],
   "source": [
    "# Listing 1-10\n",
    "\n",
    "groupby_birthyear_user = data.groupby(['birthyear', 'usertype'])['birthyear'].count().unstack('usertype').fillna(0)\n",
    "groupby_birthyear_user.plot.bar(title = 'Distribution of birth years by Usertype', stacked=True, figsize = (15,4))"
   ]
  },
  {
   "attachments": {},
   "cell_type": "markdown",
   "id": "225a879d",
   "metadata": {},
   "source": [
    "### Validation If We Don’t Have Birth Year Available for Short-Term Pass Holders\n",
    "\n",
    "Conclusion:  loyalty of millenials can’t be validated from the data at hand"
   ]
  },
  {
   "cell_type": "code",
   "execution_count": null,
   "id": "fdc9b92e",
   "metadata": {},
   "outputs": [],
   "source": [
    "# Listing 1-11\n",
    "\n",
    "data[data['usertype']=='Short-Term Pass Holder']['birthyear'].isnull().values.all()"
   ]
  },
  {
   "attachments": {},
   "cell_type": "markdown",
   "id": "a63b58ca",
   "metadata": {},
   "source": [
    "### Validation If We Don’t Have Gender Available for Short-Term Pass Holders\n",
    "\n",
    " Demographic variables for user type ‘Short-Term Pass holders’ is not recorded either."
   ]
  },
  {
   "cell_type": "code",
   "execution_count": null,
   "id": "03b3c8a5",
   "metadata": {},
   "outputs": [],
   "source": [
    "# Listing 1-12\n",
    "\n",
    "data[data['usertype']=='Short-Term Pass Holder']['gender'].isnull().values.all()"
   ]
  },
  {
   "attachments": {},
   "cell_type": "markdown",
   "id": "bc8f1a2b",
   "metadata": {},
   "source": [
    "### Converting String to datetime, and Deriving New Features"
   ]
  },
  {
   "cell_type": "code",
   "execution_count": null,
   "id": "b07d3b49",
   "metadata": {},
   "outputs": [],
   "source": [
    "# Listing 1-13\n",
    "\n",
    "List_ = list(data['starttime'])\n",
    "\n",
    "# List_ = [datetime.datetime.strptime(x, \"%m/%d/%Y %H:%M\") for x in List_]\n",
    "data['starttime_mod'] = pd.Series(List_,index=data.index)\n",
    "data['starttime_date'] = pd.Series([x.date() for x in List_],index=data.index)\n",
    "data['starttime_year'] = pd.Series([x.year for x in List_],index=data.index)\n",
    "data['starttime_month'] = pd.Series([x.month for x in List_],index=data.index)\n",
    "data['starttime_day'] = pd.Series([x.day for x in List_],index=data.index)\n",
    "data['starttime_hour'] = pd.Series([x.hour for x in List_],index=data.index)"
   ]
  },
  {
   "cell_type": "code",
   "execution_count": null,
   "id": "be242b4a",
   "metadata": {},
   "outputs": [],
   "source": [
    "days = [\"Monday\", \"Tuesday\", \"Wednesday\", \"Thursday\", \"Friday\", \"Saturday\", \"Sunday\"]\n",
    "data['starttime_dayofweek'] = pd.Series([days[x.weekday()] for x in List_],index=data.index)"
   ]
  },
  {
   "attachments": {},
   "cell_type": "markdown",
   "id": "4c3c0e05",
   "metadata": {},
   "source": [
    "### Plotting the Distribution of Trip Duration over Daily Time"
   ]
  },
  {
   "cell_type": "code",
   "execution_count": null,
   "id": "98d8e93e",
   "metadata": {},
   "outputs": [],
   "source": [
    "# Listing 1-14\n",
    "\n",
    "data.groupby('starttime_date')['tripduration'].mean().plot.bar(title = 'Distribution of Trip duration by date', figsize = (15,4))"
   ]
  },
  {
   "attachments": {},
   "cell_type": "markdown",
   "id": "d880806b",
   "metadata": {},
   "source": [
    "### Exercises\n",
    "\n",
    "1. determine the distribution of number of trips by *year*. do you see a specific pattern?\n",
    "    - there's an increasing trend over the years of increased usage. can we determine by membership or pass-holders?\n",
    "2. determine the distribution of number of trips by *month*. do you see a specific pattern?\n",
    "    - more trips made in the Summer months\n",
    "3. determine the distribution of number of trips by *day*. do you see a specific pattern?\n",
    "    - no discernable pattern by date of Month, however there is a slight bump every 7 days; perhaps need to plot days of the week?\n",
    "4. determine the distribution of number of trips by ~~day~~ *hour*. do you see a specific pattern?\n",
    "    - more trips during working hours of 10am - 4pm, and surprising at wee hours between 1am - 3am.\n",
    "5. plot a frequency distribution of trips on a daily basis.\n",
    "    - isn't this 'Distribution of Trip duration by date' above?\n"
   ]
  },
  {
   "cell_type": "code",
   "execution_count": null,
   "id": "acf0a896",
   "metadata": {},
   "outputs": [],
   "source": [
    "data.groupby('starttime_year')['tripduration'].mean().plot.bar(title = 'Distribution of Trip duration by Year', figsize = (15,4))"
   ]
  },
  {
   "cell_type": "code",
   "execution_count": null,
   "id": "d00409d0",
   "metadata": {},
   "outputs": [],
   "source": [
    "data.groupby('starttime_month')['tripduration'].mean().plot.bar(title = 'Distribution of Trip duration by Month', figsize = (15,4))"
   ]
  },
  {
   "cell_type": "code",
   "execution_count": null,
   "id": "8175b0e1",
   "metadata": {},
   "outputs": [],
   "source": [
    "data.groupby('starttime_day')['tripduration'].mean().plot.bar(title = 'Distribution of Trip duration by Date of the Month', figsize = (15,4))"
   ]
  },
  {
   "cell_type": "code",
   "execution_count": null,
   "id": "f87cba62",
   "metadata": {},
   "outputs": [],
   "source": [
    "data.groupby('starttime_hour')['tripduration'].mean().plot.bar(title = 'Distribution of Trip duration by Hour', figsize = (15,4))"
   ]
  },
  {
   "cell_type": "code",
   "execution_count": null,
   "id": "dac90b48",
   "metadata": {},
   "outputs": [],
   "source": [
    "data.groupby('starttime_dayofweek')['tripduration'].mean().plot.bar(title = 'Distribution of Trip duration by Day of Week', figsize = (15,4))"
   ]
  },
  {
   "attachments": {},
   "cell_type": "markdown",
   "id": "7323f6fc",
   "metadata": {},
   "source": [
    "### Determining the Measures of Center Using Statistics Package\n",
    "\n",
    " note: *determining the measures of centers using the statistics package will require us to transform the input data structure to a list type.*\n",
    "\n",
    "- most trips originatef from Pier 69 / Alaskan Way & Clay St\n",
    "    - makes this the ideal location for running promotional campaigns targeted to existing customers.\n",
    "- shows mean (average) to be greater than that of the median (central value)"
   ]
  },
  {
   "cell_type": "code",
   "execution_count": null,
   "id": "a1a66011",
   "metadata": {},
   "outputs": [],
   "source": [
    "# Listing 1-15\n",
    "\n",
    "trip_duration = list(data['tripduration'])\n",
    "station_from = list(data['from_station_name'])\n",
    "print(f\"Mean of trip duration: {statistics.mean(trip_duration)/60:.2f} mins\")\n",
    "print(f\"Median of trip duration: {statistics.median(trip_duration)/60:.2f} mins\")\n",
    "print(f\"Mode of station originating from: {statistics.mode(station_from)}\")"
   ]
  },
  {
   "attachments": {},
   "cell_type": "markdown",
   "id": "09253fcf",
   "metadata": {},
   "source": [
    "### Plotting Histogram of Trip Duration\n",
    "\n",
    "excerpt from book:\n",
    "> The distribution in Figure 1-11 has only one peak (i.e., mode). The distribution is not symmetric and has majority of values toward the right-hand side of the mode. These extreme values toward the right are negligible in quantity, but their extreme nature tends to pull the mean toward themselves. Thus the reason why the mean is greater than the median.\n",
    "> The distribution in Figure 1-11 is referred to as a normal distribution.\n",
    "\n",
    "> Normal distribution, or in other words Gaussian distribution, is a continuous probability distribution that is bell shaped. The important characteristic of this distribution is that the mean lies at the center of this distribution with a spread (i.e., standard deviation) around it.\n",
    "\n",
    "The `tripduration` is *Positively skewed*. This might be due to the presence of outliers."
   ]
  },
  {
   "cell_type": "code",
   "execution_count": null,
   "id": "7d290916",
   "metadata": {},
   "outputs": [],
   "source": [
    "# Listing 1-16\n",
    "\n",
    "data['tripduration'].plot.hist(bins=100, title='Frequency distribution of Trip duration')\n",
    "plt.show()"
   ]
  },
  {
   "cell_type": "code",
   "execution_count": null,
   "id": "56ea067e",
   "metadata": {},
   "outputs": [],
   "source": [
    "# Listing 1-17\n",
    "\n",
    "# [Q1 - 1.5 (IQR) ,  Q3 + 1.5 (IQR) ] (i.e. IQR = Q3 - Q1)"
   ]
  },
  {
   "attachments": {},
   "cell_type": "markdown",
   "id": "733331ea",
   "metadata": {},
   "source": [
    "### Plotting a Box plot of Trip Duration\n",
    "\n",
    "All of that black bar are dots of outliers!"
   ]
  },
  {
   "cell_type": "code",
   "execution_count": null,
   "id": "f83da193",
   "metadata": {},
   "outputs": [],
   "source": [
    "# Listing 1-18\n",
    "\n",
    "box = data.boxplot(column=['tripduration'], vert=False, figsize = (15,4)) #add vert=False\n",
    "plt.show()"
   ]
  },
  {
   "attachments": {},
   "cell_type": "markdown",
   "id": "5f72951d",
   "metadata": {},
   "source": [
    "### Determining Ratio of Values in Observations of tripduration Which Are Outliers\n"
   ]
  },
  {
   "cell_type": "code",
   "execution_count": null,
   "id": "2e0361df",
   "metadata": {},
   "outputs": [],
   "source": [
    "# Listing 1-19\n",
    "\n",
    "q75, q25 = np.percentile(trip_duration, [75 ,25])\n",
    "iqr = q75 - q25\n",
    "print(f\"Proportion of values as outlier: {((len(data) - len([x for x in trip_duration if q75+(1.5*iqr) >=x>= q25-(1.5*iqr)]))*100/float(len(data))):.4f} percent\")"
   ]
  },
  {
   "cell_type": "code",
   "execution_count": null,
   "id": "af81ceca",
   "metadata": {},
   "outputs": [],
   "source": [
    "# Listing 1-20\n",
    "\n",
    "# Number of outliers values = Length of all values - Length of all non outliers values"
   ]
  },
  {
   "cell_type": "code",
   "execution_count": null,
   "id": "5a6183ea",
   "metadata": {},
   "outputs": [],
   "source": [
    "# Listing 1-21\n",
    "\n",
    "# Ratio of outliers = ( Number of outliers values / Length of all values ) * 100"
   ]
  },
  {
   "attachments": {},
   "cell_type": "markdown",
   "id": "2c31afdc",
   "metadata": {},
   "source": [
    "### Calculating z scores for Observations Lying Within tripduration\n",
    "\n",
    "excerpt from book:\n",
    "> Nancy was relieved to see only 9.5% of the values within the dataset to be outliers. Considering the time series nature of the dataset she knew that removing these outliers wouldn’t be an option. Hence she knew that the only option she could rely on was to apply transformation to these outliers to negate their extreme nature. However, she was interested in observing the mean of the non-outlier values of trip duration. This she then wanted to compare with the mean of all values calculated earlier in Listing 1-15."
   ]
  },
  {
   "cell_type": "code",
   "execution_count": null,
   "id": "a3742fb0",
   "metadata": {},
   "outputs": [],
   "source": [
    "# Listing 1-22\n",
    "\n",
    "mean_trip_duration = np.mean([x for x in trip_duration if q75+(1.5*iqr) >=x>= q25-(1.5*iqr)])\n",
    "upper_whisker = q75+(1.5*iqr)\n",
    "print('Mean of trip duration: %f'%mean_trip_duration)"
   ]
  },
  {
   "attachments": {},
   "cell_type": "markdown",
   "id": "baa5e4e6",
   "metadata": {},
   "source": [
    "### Calculating Mean Scores for Observations Lying Within tripduration"
   ]
  },
  {
   "cell_type": "code",
   "execution_count": null,
   "id": "7c11e6ff",
   "metadata": {},
   "outputs": [],
   "source": [
    "# modified for repeated use - 2nd time for males_mean_trip_duration\n",
    "def transform_tripduration(x, upper, mean):\n",
    "    \n",
    "    if x > upper:\n",
    "        return mean\n",
    "    return x"
   ]
  },
  {
   "cell_type": "code",
   "execution_count": null,
   "id": "3aa6dc84",
   "metadata": {},
   "outputs": [],
   "source": [
    "# Listing 1-23\n",
    "\n",
    "# def transform_tripduration(x):\n",
    "    \n",
    "#     if x > upper_whisker:\n",
    "#         return mean_trip_duration\n",
    "#     return x\n",
    "\n",
    "data['tripduration_mean'] = data['tripduration'].apply(lambda x: transform_tripduration(x, upper_whisker, mean_trip_duration))\n",
    "\n",
    "data['tripduration_mean'].plot.hist(bins=100, title='Frequency distribution of mean transformed Trip duration')\n",
    "plt.show()"
   ]
  },
  {
   "attachments": {},
   "cell_type": "markdown",
   "id": "b67216ee",
   "metadata": {},
   "source": [
    "### Determining the Measures of Center in Absence of Outliers"
   ]
  },
  {
   "cell_type": "code",
   "execution_count": null,
   "id": "2e6f877f",
   "metadata": {},
   "outputs": [],
   "source": [
    "# Listing 1-24\n",
    "\n",
    "print('Mean of trip duration: %f'%data['tripduration_mean'].mean())\n",
    "print('Standard deviation of trip duration: %f'%data['tripduration_mean'].std())\n",
    "print('Median of trip duration: %f'%data['tripduration_mean'].median())"
   ]
  },
  {
   "attachments": {},
   "cell_type": "markdown",
   "id": "bddeb280",
   "metadata": {},
   "source": [
    "##  EXERCISE\n",
    "\n",
    "1. Find the mean, median, and mode of the trip duration of gender type male.\n",
    "2. by looking at the numbers obtained earlier, in your opinion is the distribution symmetric or skewed? if skewed, then is is it positively skewed or negatively skewed?\n",
    "    - positively skewed\n",
    "3. plot a frequency distribution of trip duration for trips availed by gender type male. does it validate your inference as you did so in the previous question?\n",
    "4. plot a box plot of the trip duration of trips taken by males. do you think any outliers exist?\n",
    "5. apply the formula in listing ~~1-6~~ 1-19 to determine the percentage of observations for which outliers exists.\n",
    "6. perform the treatment of outliers by incorporating one of the methods we discussed earlier for the treatment of outliers."
   ]
  },
  {
   "attachments": {},
   "cell_type": "markdown",
   "id": "d9c25660",
   "metadata": {},
   "source": [
    "### Multivariate Measures of Center for `tripduration` and `gender` == 'Male'"
   ]
  },
  {
   "cell_type": "code",
   "execution_count": null,
   "id": "79ca9836",
   "metadata": {},
   "outputs": [],
   "source": [
    "# Exercise 1\n",
    "mask_males = data['gender'] == 'Male'\n",
    "trip_durations_of_males = list(data[mask_males]['tripduration'])\n",
    "trip_durations_of_males\n",
    "print(f\"Mean of trip_durations taken by males: {statistics.mean(trip_durations_of_males)/60:.2f} mins\")\n",
    "print(f\"Median of trip_durations taken by males: {statistics.median(trip_durations_of_males)/60:.2f} mins\")\n",
    "print(f\"Mode of trip_durations taken by males: {statistics.mode(trip_durations_of_males)/60:.2f} mins\")"
   ]
  },
  {
   "cell_type": "code",
   "execution_count": null,
   "id": "9dc42e3d",
   "metadata": {},
   "outputs": [],
   "source": [
    "# Exercise 3\n",
    "data[mask_males]['tripduration'].plot.hist(bins=100, title='Frequency distribution of Trip duration by Males')\n",
    "plt.show()"
   ]
  },
  {
   "cell_type": "code",
   "execution_count": null,
   "id": "b20b05df",
   "metadata": {},
   "outputs": [],
   "source": [
    "# Exercise 4\n",
    "# Yes, there are outliers\n",
    "df = data[mask_males]\n",
    "box = df.boxplot(column=['tripduration'], vert=False, figsize = (15,4)) #add vert=False\n",
    "plt.show()"
   ]
  },
  {
   "cell_type": "code",
   "execution_count": null,
   "id": "b3144a34",
   "metadata": {},
   "outputs": [],
   "source": [
    "# Exercise 5\n",
    "# Listing 1-19 modified for trip_durations_of_males\n",
    "q75, q25 = np.percentile(trip_durations_of_males, [75 ,25])\n",
    "iqr = q75 - q25\n",
    "print(f\"Proportion of values as outlier: {((len(data) - len([x for x in trip_durations_of_males if q75+(1.5*iqr) >=x>= q25-(1.5*iqr)]))*100/float(len(data))):.4f} percent\")"
   ]
  },
  {
   "cell_type": "code",
   "execution_count": null,
   "id": "13b51e5b",
   "metadata": {},
   "outputs": [],
   "source": [
    "# Exercise 6-1\n",
    "# Listing 1-21 modified for trip_durations_of_males\n",
    "males_mean_trip_duration = np.mean([x for x in trip_durations_of_males if q75+(1.5*iqr) >=x>= q25-(1.5*iqr)])\n",
    "males_upper_whisker = q75+(1.5*iqr)\n",
    "print('Mean of trip duration: %f'%males_mean_trip_duration)"
   ]
  },
  {
   "cell_type": "code",
   "execution_count": null,
   "id": "95a854fd",
   "metadata": {},
   "outputs": [],
   "source": [
    "# Exercise 6-2\n",
    "# Listing 1-23 modified for trip_durations_of_males\n",
    "trips = df['tripduration'].apply(lambda x: transform_tripduration(x, males_upper_whisker, males_mean_trip_duration)) # chaining this triggered the SettingWithCopyWarning\n",
    "df.loc['trip_durations_of_males_mean'] = trips\n",
    "\n",
    "trips"
   ]
  },
  {
   "cell_type": "code",
   "execution_count": null,
   "id": "8fad9222",
   "metadata": {},
   "outputs": [],
   "source": [
    "df['trip_durations_of_males_mean'].plot.hist(bins=100, title='Frequency distribution of mean transformed Trip durations availed by Males')\n",
    "plt.show()"
   ]
  },
  {
   "attachments": {},
   "cell_type": "markdown",
   "id": "c1fe6772",
   "metadata": {},
   "source": [
    "### Correlation directions"
   ]
  },
  {
   "cell_type": "code",
   "execution_count": null,
   "id": "f29cc8ee",
   "metadata": {},
   "outputs": [],
   "source": [
    "data.birthyear.describe()"
   ]
  },
  {
   "attachments": {},
   "cell_type": "markdown",
   "id": "73405ec5",
   "metadata": {},
   "source": [
    "### Before imputation of `birthyear`"
   ]
  },
  {
   "cell_type": "code",
   "execution_count": null,
   "id": "b368f1c8",
   "metadata": {},
   "outputs": [],
   "source": [
    "birth_year = list(data['birthyear'])\n",
    "print(f\"Mean of birth year: {statistics.mean(birth_year)}\")\n",
    "print(f\"Median of birth year: {statistics.median(birth_year)}\")\n",
    "print(f\"Mode of birth year: {statistics.mode(birth_year)}\")"
   ]
  },
  {
   "cell_type": "code",
   "execution_count": null,
   "id": "1a517c91",
   "metadata": {},
   "outputs": [],
   "source": [
    "birthbox = data.boxplot(column=['birthyear'], vert=False, figsize = (15,4)) #add vert=False\n",
    "plt.show()"
   ]
  },
  {
   "cell_type": "code",
   "execution_count": null,
   "id": "f7482aaa",
   "metadata": {},
   "outputs": [],
   "source": [
    "backup = data.copy()\n",
    "mask_birthyear_nan = data['birthyear'].isnull()\n",
    "\n",
    "data.loc[mask_birthyear_nan, 'birthyear'] = statistics.median(birth_year)\n",
    "data\n"
   ]
  },
  {
   "attachments": {},
   "cell_type": "markdown",
   "id": "fddee2f3",
   "metadata": {},
   "source": [
    "### After imputation of `birthyear`"
   ]
  },
  {
   "cell_type": "code",
   "execution_count": null,
   "id": "60179b14",
   "metadata": {},
   "outputs": [],
   "source": [
    "birth_year = list(data['birthyear'])\n",
    "print(f\"Mean of birth year: {statistics.mean(birth_year)}\")\n",
    "print(f\"Median of birth year: {statistics.median(birth_year)}\")\n",
    "print(f\"Mode of birth year: {statistics.mode(birth_year)}\")"
   ]
  },
  {
   "cell_type": "code",
   "execution_count": null,
   "id": "dc48bb3b",
   "metadata": {},
   "outputs": [],
   "source": [
    "print(data['birthyear'].isnull().sum())\n",
    "print(data['starttime_year'].isna().sum())"
   ]
  },
  {
   "cell_type": "code",
   "execution_count": null,
   "id": "700ffd47",
   "metadata": {},
   "outputs": [],
   "source": [
    "# Listing 1-26\n",
    "\n",
    "# pd.set_option('display.width', 100)\n",
    "# pd.set_option('precision', 3)  # invalid, changed in newer version?\n",
    "\n",
    "# data['age'] = data['starttime_year'] - data['birthyear']\n",
    "\n",
    "# correlations = data[['tripduration','age']].corr(method='pearson')\n",
    "# print(correlations)"
   ]
  },
  {
   "attachments": {},
   "cell_type": "markdown",
   "id": "3dc4fb62",
   "metadata": {},
   "source": [
    "### Default values before setting new values"
   ]
  },
  {
   "cell_type": "code",
   "execution_count": null,
   "id": "08f23f0a",
   "metadata": {},
   "outputs": [],
   "source": [
    "print(f\"display.width: {str(pd.options.display.width)}\")\n",
    "print(f\"display.precision: {str(pd.options.display.precision)}\")\n"
   ]
  },
  {
   "attachments": {},
   "cell_type": "markdown",
   "id": "83dc3213",
   "metadata": {},
   "source": [
    "### Correlation Coefficient Between trip duration and age"
   ]
  },
  {
   "cell_type": "code",
   "execution_count": null,
   "id": "b77c9499",
   "metadata": {},
   "outputs": [],
   "source": [
    "pd.set_option('display.width', 100)\n",
    "pd.set_option('display.precision', 3)"
   ]
  },
  {
   "cell_type": "code",
   "execution_count": null,
   "id": "7649cfe8",
   "metadata": {},
   "outputs": [],
   "source": [
    "data['age'] = data['starttime_year'] - data['birthyear'] # coeffs changed from book after birthyear imputed vs dropped\n",
    "\n",
    "correlations = data[['tripduration','age']].corr(method='pearson')\n",
    "print(correlations)"
   ]
  },
  {
   "attachments": {},
   "cell_type": "markdown",
   "id": "4eaa0a55",
   "metadata": {},
   "source": [
    "### Pairplot of trip duration and age"
   ]
  },
  {
   "cell_type": "code",
   "execution_count": null,
   "id": "0ff264a7",
   "metadata": {},
   "outputs": [],
   "source": [
    "# Listing 1-25\n",
    "# rearranged this to be after 1.26 because it is using 'age' feature which is engineered in 1-26\n",
    "# data = data.dropna()\n",
    "seaborn.pairplot(data, vars=['age', 'tripduration'], kind='reg')\n",
    "plt.show()\n",
    "\n",
    "# plot shows older people take longer bike trips, and all age groups take single trips lasting between 45-83 mins\n",
    "# longest use of service is for about 3/4 of a day? 25000 s/60 min/24 hr = 17 hrs?? Is calculation correct?"
   ]
  },
  {
   "attachments": {},
   "cell_type": "markdown",
   "id": "bf97c6ca",
   "metadata": {},
   "source": [
    "### Computing Two-Tail t-test of Categories of gender and user types"
   ]
  },
  {
   "cell_type": "code",
   "execution_count": null,
   "id": "9ef40ac1",
   "metadata": {},
   "outputs": [],
   "source": [
    "# Listing 1-27\n",
    "\n",
    "for cat in ['gender','usertype']:\n",
    "\n",
    "    print(f\"Category: \\n{cat}\")\n",
    "    groupby_category = data.groupby(['starttime_date', cat])['starttime_date'].count().unstack(cat)\n",
    "    # print(groupby_category)\n",
    "    # groupby_category = groupby_category.dropna() # 'usertype' isna() dropped\n",
    "    category_names = list(groupby_category.columns)\n",
    "    print(category_names)\n",
    "\n",
    "    for comb in [(category_names[i],category_names[j]) for i in range(len(category_names)) for j in range(i+1, len(category_names))]:\n",
    "\n",
    "        print(f\"{comb[0]}, {comb[1]}\")\n",
    "        t_statistics = stats.ttest_ind(list(groupby_category[comb[0]]), list(groupby_category[comb[1]]))\n",
    "        print(f\"Statistic: {t_statistics.statistic:.6f}, P value: {t_statistics.pvalue:.6f}\")\n",
    "        print('\\n')\n",
    "\n",
    "# since usertype for short-term users has no gender values and is dropped, there is no other usertype to compare to, how did book do it?\n",
    "# book says 'gender' an 'age', though"
   ]
  },
  {
   "attachments": {},
   "cell_type": "markdown",
   "id": "9729d5c3",
   "metadata": {},
   "source": [
    "### Script to Validate Central Limit Theorem on Trips Dataset"
   ]
  },
  {
   "cell_type": "code",
   "execution_count": null,
   "id": "3147afbf",
   "metadata": {},
   "outputs": [],
   "source": [
    "# Listing 1-28\n",
    "\n",
    "daily_tickets = list(data.groupby('starttime_date').size())\n",
    "sample_tickets = []\n",
    "checkpoints = [1, 10, 100, 300, 500, 700]\n",
    "plot_count = 1\n",
    "\n",
    "random.shuffle(daily_tickets)\n",
    "\n",
    "plt.figure(figsize=(15,7))\n",
    "binrange=np.array(np.linspace(0,500,101))\n",
    "\n",
    "for i in range(1000):\n",
    "    if daily_tickets:\n",
    "        sample_tickets.append(daily_tickets.pop())\n",
    "\n",
    "    if i+1 in checkpoints or not daily_tickets:\n",
    "        plt.subplot(2,3,plot_count)\n",
    "        plt.hist(sample_tickets, binrange)\n",
    "        plt.title('n=%d' % (i+1),fontsize=15)        \n",
    "        plot_count+=1\n",
    "\n",
    "    if not daily_tickets:\n",
    "\t    break\n",
    "        \n",
    "plt.show()"
   ]
  },
  {
   "cell_type": "code",
   "execution_count": null,
   "id": "fb7d7004",
   "metadata": {},
   "outputs": [],
   "source": [
    "data.shape"
   ]
  },
  {
   "cell_type": "code",
   "execution_count": null,
   "id": "2a2d3dbb",
   "metadata": {},
   "outputs": [],
   "source": [
    "print(f\"No of records dropped due to 'gender' isna() {len(backup) - len(data)}\") # dropped gender == NaN\n",
    "print(f\"Percentage of total:  {(len(backup) - len(data))/len(backup)*100}\")"
   ]
  },
  {
   "cell_type": "code",
   "execution_count": null,
   "id": "e0b973cf",
   "metadata": {},
   "outputs": [],
   "source": []
  }
 ],
 "metadata": {
  "kernelspec": {
   "display_name": "caseStudies",
   "language": "python",
   "name": "python3"
  },
  "language_info": {
   "codemirror_mode": {
    "name": "ipython",
    "version": 3
   },
   "file_extension": ".py",
   "mimetype": "text/x-python",
   "name": "python",
   "nbconvert_exporter": "python",
   "pygments_lexer": "ipython3",
   "version": "3.11.0 | packaged by conda-forge | (main, Oct 25 2022, 06:24:51) [Clang 14.0.4 ]"
  },
  "vscode": {
   "interpreter": {
    "hash": "6332df6778de3598e7f50b3091f230be7d258370b830f0c1dae9d97579f1f918"
   }
  }
 },
 "nbformat": 4,
 "nbformat_minor": 5
}
