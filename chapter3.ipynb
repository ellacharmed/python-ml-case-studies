{
 "cells": [
  {
   "cell_type": "markdown",
   "id": "88b86152",
   "metadata": {},
   "source": [
    "# Chapter 3 "
   ]
  },
  {
   "cell_type": "code",
   "execution_count": null,
   "id": "90591af7",
   "metadata": {},
   "outputs": [],
   "source": [
    "# Listing 1-1\n",
    "\n",
    "%matplotlib inline\n",
    "\n",
    "import pandas as pd\n",
    "import numpy as np\n",
    "from datetime import datetime\n",
    "import statsmodels.api as sm\n",
    "import matplotlib.pyplot as plt\n",
    "from IPython.display import Image\n",
    "from matplotlib.pylab import rcParams\n",
    "from statsmodels.tsa.stattools import adfuller\n",
    "from statsmodels.tsa.stattools import acf, pacf\n",
    "from sklearn.linear_model import LinearRegression\n",
    "from statsmodels.tsa.arima_model import ARMA, ARIMA\n",
    "from sklearn.metrics import explained_variance_score\n",
    "from matplotlib.finance import fetch_historical_yahoo, parse_yahoo_historical_ochl\n",
    "\n",
    "rcParams['figure.figsize'] = 15, 5"
   ]
  },
  {
   "cell_type": "code",
   "execution_count": null,
   "id": "d4abfc8b",
   "metadata": {},
   "outputs": [],
   "source": [
    "# Listing 1-2\n",
    "\n",
    "fh = fetch_historical_yahoo('^GSPC', (2016, 1, 1), (2016, 12, 31))\n",
    "yahoo_data = parse_yahoo_historical_ochl(fh, asobject=True, adjusted=False)"
   ]
  },
  {
   "cell_type": "code",
   "execution_count": null,
   "id": "c409f6bc",
   "metadata": {},
   "outputs": [],
   "source": [
    "# Listing 1-3\n",
    "\n",
    "dates = [x[0] for x in list(yahoo_data)]\n",
    "values = [x[-1] for x in list(yahoo_data)]\n",
    "data = pd.DataFrame({'Close_Adj':values}, index=dates)\n",
    "\n",
    "date_thresh = datetime.strptime('2016-10-01',\"%Y-%m-%d\").date()\n",
    "\n",
    "data_train = data[:date_thresh]\n",
    "data_test = data[date_thresh:]\n",
    "\n",
    "plt.plot(data_train.index, data['Close_Adj'])\n",
    "plt.xlabel('Year')\n",
    "plt.ylabel('Adjusted Closing Rate')\n",
    "plt.title('Yahoo Adjusted closing rate - Year 2016')\n"
   ]
  },
  {
   "cell_type": "code",
   "execution_count": null,
   "id": "1806c51e",
   "metadata": {},
   "outputs": [],
   "source": [
    "# Listing 1-4\n",
    "\n",
    "def evaluate_stationarity(timeseries, t=30):\n",
    "    \n",
    "    #Determing rolling statistics\n",
    "    rolmean = timeseries.rolling(window=t).mean()\n",
    "    rolstd = timeseries.rolling(window=t).std()\n",
    "\n",
    "    #Plot rolling statistics:\n",
    "    orig = plt.plot(timeseries, color='blue',label='Original')\n",
    "    mean = plt.plot(rolmean, color='red', label='Rolling Mean')\n",
    "    std = plt.plot(rolstd, color='black', label = 'Rolling Std')\n",
    "    plt.legend(loc='best')\n",
    "    plt.title('Rolling Mean & Standard Deviation')\n",
    "    plt.show(block=False)\n",
    "    \n",
    "    #Perform Dickey-Fuller test:\n",
    "    print('Results of Dickey-Fuller Test:')\n",
    "    dftest = adfuller(timeseries, autolag='AIC')\n",
    "    dfoutput = pd.Series(dftest[0:4], index=['Test Statistic','p-value','#Lags Used','Number of Observations Used'])\n",
    "    for key,value in list(dftest[4].items()):\n",
    "        dfoutput['Critical Value (%s)'%key] = value\n",
    "    print(dfoutput)"
   ]
  },
  {
   "cell_type": "code",
   "execution_count": null,
   "id": "68c9d114",
   "metadata": {},
   "outputs": [],
   "source": [
    "# Listing 1-5\n",
    "\n",
    "evaluate_stationarity(data_train['Close_Adj'], 15)"
   ]
  },
  {
   "cell_type": "code",
   "execution_count": null,
   "id": "5feb2993",
   "metadata": {},
   "outputs": [],
   "source": [
    "# Listing 1-6\n",
    "\n",
    "data_log = np.log(data_train['Close_Adj'])\n",
    "evaluate_stationarity(data_log, 15)"
   ]
  },
  {
   "cell_type": "code",
   "execution_count": null,
   "id": "b621aa24",
   "metadata": {},
   "outputs": [],
   "source": [
    "# Listing 1-7\n",
    "\n",
    "data_log = np.log(data_train['Close_Adj'])\n",
    "\n",
    "#Determing rolling statistics\n",
    "rolmean = data_log.rolling(window=15).mean()\n",
    "rolstd = data_log.rolling(window=15).std()\n",
    "\n",
    "#Plot rolling statistics:\n",
    "orig = plt.plot(data_log, color='blue',label='Original')\n",
    "mean = plt.plot(rolmean, color='red', label='Rolling Mean')\n",
    "std = plt.plot(rolstd, color='black', label = 'Rolling Std')\n",
    "plt.legend(loc='best')\n",
    "plt.ylim([7.4,7.8])\n",
    "plt.title('Rolling Mean & Standard Deviation')\n",
    "plt.show(block=False)"
   ]
  },
  {
   "cell_type": "code",
   "execution_count": null,
   "id": "1160dc8d",
   "metadata": {},
   "outputs": [],
   "source": [
    "# Listing 1-8\n",
    "\n",
    "data_sqrt = np.sqrt(data_train['Close_Adj'])\n",
    "evaluate_stationarity(data_sqrt, 15)"
   ]
  },
  {
   "cell_type": "code",
   "execution_count": null,
   "id": "91744d64",
   "metadata": {},
   "outputs": [],
   "source": [
    "# Listing 1-9\n",
    "\n",
    "moving_avg = pd.rolling_mean(data_log,15)\n",
    "plt.plot(data_log)\n",
    "plt.plot(moving_avg, color='red')"
   ]
  },
  {
   "cell_type": "code",
   "execution_count": null,
   "id": "6a90badd",
   "metadata": {},
   "outputs": [],
   "source": [
    "# Listing 1-10\n",
    "\n",
    "data_log_moving_avg_diff = data_log - moving_avg\n",
    "data_log_moving_avg_diff.head(15)"
   ]
  },
  {
   "cell_type": "code",
   "execution_count": null,
   "id": "88789f65",
   "metadata": {},
   "outputs": [],
   "source": [
    "# Listing 1-11\n",
    "\n",
    "data_log_moving_avg_diff.dropna(inplace=True)\n",
    "evaluate_stationarity(data_log_moving_avg_diff)"
   ]
  },
  {
   "cell_type": "code",
   "execution_count": null,
   "id": "3bcfd293",
   "metadata": {},
   "outputs": [],
   "source": [
    "# Listing 1-12\n",
    "\n",
    "expwighted_avg = pd.ewma(data_log, halflife=15)\n",
    "data_log_ewma_diff = data_log - expwighted_avg\n",
    "evaluate_stationarity(data_log_ewma_diff)"
   ]
  },
  {
   "cell_type": "code",
   "execution_count": null,
   "id": "3171a7ff",
   "metadata": {},
   "outputs": [],
   "source": [
    "# Listing 1-13\n",
    "\n",
    "data_log_diff = data_log - data_log.shift()\n",
    "data_log_diff.dropna(inplace=True)\n",
    "evaluate_stationarity(data_log_diff)"
   ]
  },
  {
   "cell_type": "code",
   "execution_count": null,
   "id": "b4b335a7",
   "metadata": {},
   "outputs": [],
   "source": [
    "# Listing 1-14\n",
    "\n",
    "from statsmodels.tsa.seasonal import seasonal_decompose\n",
    "decomposition = seasonal_decompose(list(data_log), freq=15)\n",
    "\n",
    "trend = decomposition.trend\n",
    "seasonal = decomposition.seasonal\n",
    "residual = decomposition.resid\n",
    "\n",
    "plt.subplot(411)\n",
    "plt.plot(data_log, label='Original')\n",
    "plt.legend(loc='best')\n",
    "plt.subplot(412)\n",
    "plt.plot(trend, label='Trend')\n",
    "plt.legend(loc='best')\n",
    "plt.subplot(413)\n",
    "plt.plot(seasonal,label='Seasonality')\n",
    "plt.legend(loc='best')\n",
    "plt.subplot(414)\n",
    "plt.plot(residual, label='Residuals')\n",
    "plt.legend(loc='best')\n",
    "plt.tight_layout()"
   ]
  },
  {
   "cell_type": "code",
   "execution_count": null,
   "id": "c462af2b",
   "metadata": {},
   "outputs": [],
   "source": [
    "# Listing 1-15\n",
    "\n",
    "data_log_decompose = pd.Series(residual)\n",
    "data_log_decompose.dropna(inplace=True)\n",
    "evaluate_stationarity(data_log_decompose)"
   ]
  },
  {
   "cell_type": "code",
   "execution_count": null,
   "id": "6fbc6299",
   "metadata": {},
   "outputs": [],
   "source": [
    "# Listing 1-16\n",
    "\n",
    "sm.stats.durbin_watson(data_log_diff)"
   ]
  },
  {
   "cell_type": "code",
   "execution_count": null,
   "id": "925adfb7",
   "metadata": {},
   "outputs": [],
   "source": [
    "# Listing 1-17\n",
    "\n",
    "ax1 = plt.subplot(211)\n",
    "fig = sm.graphics.tsa.plot_acf(data_log_diff.squeeze(), lags=40, ax=ax1)\n",
    "ax2 = plt.subplot(212)\n",
    "fig = sm.graphics.tsa.plot_pacf(data_log_diff, lags=40, ax=ax2)"
   ]
  },
  {
   "cell_type": "code",
   "execution_count": null,
   "id": "576e580e",
   "metadata": {},
   "outputs": [],
   "source": [
    "# Listing 1-18\n",
    "\n",
    "model = ARIMA(data_log, order=(2, 1, 0), dates=data_log.index.to_datetime())  \n",
    "results_AR_210 = model.fit(disp=-1)\n",
    "plt.plot(data_log_diff)\n",
    "plt.plot(results_AR_210.fittedvalues, color='red')\n",
    "plt.title('RSS: %.4f'% sum((results_AR_210.fittedvalues-data_log_diff)**2))"
   ]
  },
  {
   "cell_type": "code",
   "execution_count": null,
   "id": "1b3f7f68",
   "metadata": {},
   "outputs": [],
   "source": [
    "# Listing 1-19\n",
    "\n",
    "model = ARIMA(data_log, order=(0, 1, 1), dates=data_log.index.to_datetime())  \n",
    "results_MA_011 = model.fit(disp=-1)  \n",
    "plt.plot(data_log_diff)\n",
    "plt.plot(results_MA_011.fittedvalues, color='red')\n",
    "plt.title('RSS: %.4f'% sum((results_MA_011.fittedvalues-data_log_diff)**2))"
   ]
  },
  {
   "cell_type": "code",
   "execution_count": null,
   "id": "2f3a2fca",
   "metadata": {},
   "outputs": [],
   "source": [
    "# Listing 1-20\n",
    "\n",
    "model = ARIMA(data_log, order=(1, 1, 1), dates=data_log.index.to_datetime())\n",
    "results_ARIMA_111 = model.fit(disp=-1)\n",
    "plt.plot(data_log_diff)\n",
    "plt.plot(results_ARIMA_111.fittedvalues, color='red')\n",
    "plt.title('RSS: %.4f'% sum((results_ARIMA_111.fittedvalues-data_log_diff)**2))"
   ]
  },
  {
   "cell_type": "code",
   "execution_count": null,
   "id": "136ee10d",
   "metadata": {},
   "outputs": [],
   "source": [
    "# Listing 1-21\n",
    "\n",
    "predictions_ARIMA_diff = pd.Series(results_ARIMA_111.fittedvalues, copy=True)\n",
    "print(predictions_ARIMA_diff.head())"
   ]
  },
  {
   "cell_type": "code",
   "execution_count": null,
   "id": "52d83945",
   "metadata": {},
   "outputs": [],
   "source": [
    "# Listing 1-22\n",
    "\n",
    "predictions_ARIMA_diff_cumsum = predictions_ARIMA_diff.cumsum()\n",
    "print(predictions_ARIMA_diff_cumsum.head())"
   ]
  },
  {
   "cell_type": "code",
   "execution_count": null,
   "id": "5cf117a0",
   "metadata": {},
   "outputs": [],
   "source": [
    "# Listing 1-23\n",
    "\n",
    "print(results_ARIMA_111.aic)"
   ]
  },
  {
   "cell_type": "code",
   "execution_count": null,
   "id": "cbfdd654",
   "metadata": {},
   "outputs": [],
   "source": [
    "# Listing 1-24\n",
    "\n",
    "predictions_ARIMA_log = pd.Series(data_log.ix[0], index=data_log.index)\n",
    "predictions_ARIMA_log = predictions_ARIMA_log.add(predictions_ARIMA_diff_cumsum,fill_value=0)\n",
    "predictions_ARIMA_log.head()"
   ]
  },
  {
   "cell_type": "code",
   "execution_count": null,
   "id": "a3f0ee76",
   "metadata": {},
   "outputs": [],
   "source": [
    "# Listing 1-25\n",
    "\n",
    "def mean_forecast_err(y, yhat):\n",
    "    return y.sub(yhat).mean()\n",
    "\n",
    "def mean_absolute_err(y, yhat):\n",
    "    return np.mean((np.abs(y.sub(yhat).mean()) / yhat)) # or percent error = * 100\n",
    "\n",
    "\n",
    "def rmse(y, yhat):\n",
    "    return np.sqrt(sum((yhat-y)**2)/len(y))\n",
    "\n",
    "\n",
    "predictions_ARIMA = np.exp(predictions_ARIMA_log)\n",
    "plt.plot(data_train['Close_Adj'])\n",
    "plt.plot(predictions_ARIMA)\n",
    "\n",
    "plt.title('RMSE: %.4f | MFE: %.4f | MAE: %.4f'% (\n",
    "        rmse(data_train['Close_Adj'], predictions_ARIMA), mean_forecast_err(\n",
    "            data_train['Close_Adj'], predictions_ARIMA), mean_absolute_err(\n",
    "            data_train['Close_Adj'], predictions_ARIMA)))"
   ]
  },
  {
   "cell_type": "code",
   "execution_count": null,
   "id": "51227b62",
   "metadata": {},
   "outputs": [],
   "source": [
    "# Listing 1-26\n",
    "\n",
    "regr = LinearRegression()\n",
    "\n",
    "x_train = [[x] for x in range(len(data_train))]\n",
    "y_train = [[y] for y in list(data_train['Close_Adj'])]\n",
    "\n",
    "x_test = [[z] for z in range(x+1, x + 1+len(data_test))]\n",
    "\n",
    "regr.fit(x_train, y_train)\n",
    "\n",
    "y_pred = regr.predict(x_test)\n",
    "\n",
    "explained_variance_score(data_test['Close_Adj'], y_pred)\n",
    "\n",
    "plt.scatter(list(range(len(data_test))), data_test['Close_Adj'],  color='black')\n",
    "plt.plot(list(range(len(data_test))), y_pred, color='blue',\n",
    "             linewidth=3)\n",
    "plt.ylabel('Concrete strength')"
   ]
  }
 ],
 "metadata": {},
 "nbformat": 4,
 "nbformat_minor": 5
}
